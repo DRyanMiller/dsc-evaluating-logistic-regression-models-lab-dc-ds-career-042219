{
 "cells": [
  {
   "cell_type": "markdown",
   "metadata": {},
   "source": [
    "# Evaluating Logistic Regression Models - Lab\n",
    "\n",
    "## Introduction\n",
    "\n",
    " In regression, you are predicting values so it made sense to discuss error as a distance of how far off our estimates were. In classifying a binary variable however, a model is either correct or incorrect. As a result, we tend to deconstruct this as how many false positives versus false negatives we come across.  \n",
    "In particular, we examine a few different specific measurements when evaluating the performance of a classification algorithm. In this review lab, we'll review precision, recall, accuracy, and F1-score in order to evaluate our logistic regression models.\n",
    "\n",
    "\n",
    "## Objectives\n",
    "You will be able to:  \n",
    "* Understand and assess precision, recall, and accuracy of classifiers\n",
    "* Evaluate classification models using various metrics\n",
    "\n",
    "## Terminology Review  \n",
    "\n",
    "Let's take a moment and review some classification evaluation metrics:  \n",
    "\n",
    "\n",
    "$Precision = \\frac{\\text{Number of True Positives}}{\\text{Number of Predicted Positives}}$    \n",
    "  \n",
    "\n",
    "$Recall = \\frac{\\text{Number of True Positives}}{\\text{Number of Actual Total Positives}}$  \n",
    "  \n",
    "$Accuracy = \\frac{\\text{Number of True Positives + True Negatives}}{\\text{Total Observations}}$\n",
    "\n",
    "$\\text{F1-Score} = 2\\ \\frac{Precision\\ x\\ Recall}{Precision + Recall}$\n"
   ]
  },
  {
   "cell_type": "markdown",
   "metadata": {},
   "source": [
    "At times, it may be superior to tune a classification algorithm to optimize against precision or recall rather than overall accuracy. For example, imagine the scenario of predicting whether or not a patient is at risk for cancer and should be brought in for additional testing. In cases such as this, we often may want to cast a slightly wider net, and it is much preferable to optimize for recall, the number of cancer positive cases, then it is to optimize precision, the percentage of our predicted cancer-risk patients who are indeed positive."
   ]
  },
  {
   "cell_type": "markdown",
   "metadata": {},
   "source": [
    "## 1. Split the data into train and test sets"
   ]
  },
  {
   "cell_type": "code",
<<<<<<< HEAD
   "execution_count": 46,
=======
   "execution_count": 1,
>>>>>>> b86d6b7e148b53cb910e02accfb0e18e8832a286
   "metadata": {},
   "outputs": [],
   "source": [
    "import pandas as pd\n",
    "df = pd.read_csv('heart.csv')"
   ]
  },
  {
   "cell_type": "code",
   "execution_count": 47,
   "metadata": {},
   "outputs": [],
   "source": [
<<<<<<< HEAD
    "X = df.drop(['target'], axis=1)\n",
    "y = df['target']"
   ]
  },
  {
   "cell_type": "code",
   "execution_count": 48,
   "metadata": {},
   "outputs": [],
   "source": [
    "#Your code here\n",
    "from sklearn.model_selection import train_test_split\n",
    "X_train, X_test, y_train, y_test = train_test_split(X,y, random_state=0)"
=======
    "#Your code here\n"
>>>>>>> b86d6b7e148b53cb910e02accfb0e18e8832a286
   ]
  },
  {
   "cell_type": "markdown",
   "metadata": {},
   "source": [
    "## 2. Create a standard logistic regression model"
   ]
  },
  {
   "cell_type": "code",
   "execution_count": 55,
   "metadata": {},
   "outputs": [
    {
     "name": "stderr",
     "output_type": "stream",
     "text": [
      "/anaconda3/lib/python3.7/site-packages/sklearn/linear_model/logistic.py:433: FutureWarning: Default solver will be changed to 'lbfgs' in 0.22. Specify a solver to silence this warning.\n",
      "  FutureWarning)\n"
     ]
    }
   ],
   "source": [
    "from sklearn.linear_model import LogisticRegression\n",
    "logreg = LogisticRegression(fit_intercept=False, C=1e12)\n",
    "model_log = logreg.fit(X_train,y_train)\n",
    "model_log\n",
    "\n",
    "y_hat_train = model_log.predict(X_train)\n",
    "y_hat_test = model_log.predict(X_test)"
   ]
  },
  {
   "cell_type": "markdown",
   "metadata": {},
   "source": [
    "## 3. Write a function to calculate the precision"
   ]
  },
  {
   "cell_type": "code",
   "execution_count": 56,
   "metadata": {},
   "outputs": [],
   "source": [
    "def precision(y_hat, y):\n",
    "    from sklearn.metrics import confusion_matrix\n",
    "    cf = confusion_matrix(y, y_hat)\n",
    "    precision = cf[1,1]/(cf[1,1]+cf[0,1])\n",
    "    return precision"
   ]
  },
  {
   "cell_type": "markdown",
   "metadata": {},
   "source": [
    "## 4. Write a function to calculate the recall"
   ]
  },
  {
   "cell_type": "code",
   "execution_count": 57,
   "metadata": {},
   "outputs": [],
   "source": [
    "def recall(y_hat, y):\n",
    "    from sklearn.metrics import confusion_matrix\n",
    "    cf = confusion_matrix(y, y_hat)\n",
    "    recall = cf[1,1]/(cf[1,1]+cf[1,0])\n",
    "    return recall"
   ]
  },
  {
   "cell_type": "markdown",
   "metadata": {},
   "source": [
    "## 5. Write a function to calculate the accuracy"
   ]
  },
  {
   "cell_type": "code",
   "execution_count": 58,
   "metadata": {},
   "outputs": [],
   "source": [
    "def accuracy(y_hat, y):\n",
    "    from sklearn.metrics import confusion_matrix\n",
    "    cf = confusion_matrix(y, y_hat)\n",
    "    accuracy = (cf[1,1]+cf[0,0])/(cf[1,1]+cf[1,0]+cf[0,0]+cf[0,1])\n",
    "    return accuracy"
   ]
  },
  {
   "cell_type": "markdown",
   "metadata": {},
   "source": [
    "## 6. Write a function to calculate the F1-score"
   ]
  },
  {
   "cell_type": "code",
   "execution_count": 59,
   "metadata": {},
   "outputs": [],
   "source": [
    "def f1_score(y_hat,y):\n",
    "    from sklearn.metrics import confusion_matrix\n",
    "    f1_score = 2*((precision(y_hat, y)*recall(y_hat, y))/(precision(y_hat, y)+recall(y_hat, y)))\n",
    "    return f1_score"
   ]
  },
  {
   "cell_type": "markdown",
   "metadata": {},
   "source": [
    "## 7. Calculate the precision, recall, accuracy, and F1-score of your classifier.\n",
    "\n",
    "Do this for both the training and the test set"
   ]
  },
  {
   "cell_type": "code",
   "execution_count": 60,
   "metadata": {},
   "outputs": [
    {
     "name": "stdout",
     "output_type": "stream",
     "text": [
      "Training Data Results \n",
      " Precision: 0.8396946564885496 \n",
      " Recall: 0.9016393442622951 \n",
      " Accuracy: 0.8546255506607929 \n",
      " F1 Score: 0.8695652173913043\n",
      "Testing Data Results \n",
      " Precision: 0.8125 \n",
      " Recall: 0.9069767441860465 \n",
      " Accuracy: 0.8289473684210527 \n",
      " F1 Score: 0.8571428571428572\n"
     ]
    }
   ],
   "source": [
    "precision_train = precision(y_hat_train, y_train)\n",
    "recall_train = recall(y_hat_train, y_train)\n",
    "accuracy_train = accuracy(y_hat_train, y_train)\n",
    "f1_score_train = f1_score(y_hat_train, y_train)\n",
    "print(\"Training Data Results\", '\\n', 'Precision: {}'.format(precision_train), '\\n', \"Recall: {}\".format(recall_train),\n",
    "      '\\n', 'Accuracy: {}'.format(accuracy_train), '\\n', 'F1 Score: {}'.format(f1_score_train))\n",
    "\n",
    "precision_test = precision(y_hat_test, y_test)\n",
    "recall_test = recall(y_hat_test, y_test)\n",
    "accuracy_test = accuracy(y_hat_test, y_test)\n",
    "f1_score_test = f1_score(y_hat_test, y_test)\n",
    "print(\"Testing Data Results\", '\\n', 'Precision: {}'.format(precision_test), '\\n', \"Recall: {}\".format(recall_test),\n",
    "      '\\n', 'Accuracy: {}'.format(accuracy_test), '\\n', 'F1 Score: {}'.format(f1_score_test))\n",
    "\n",
    "\n"
   ]
  },
  {
   "cell_type": "markdown",
   "metadata": {},
   "source": [
    "Great Job! Now it's time to check your work with sklearn. \n",
    "\n",
    "## 8. Calculating Metrics with sklearn\n",
    "\n",
    "Each of the metrics we calculated above is also available inside the `sklearn.metrics` module.  \n",
    "\n",
    "In the cell below, import the following functions:\n",
    "\n",
    "* `precision_score`\n",
    "* `recall_score`\n",
    "* `accuracy_score`\n",
    "* `f1_score`\n",
    "\n",
    "Compare the results of your performance metrics functions with the sklearn functions above. Calculate these values for both your train and test set."
   ]
  },
  {
   "cell_type": "code",
   "execution_count": 61,
   "metadata": {},
   "outputs": [
    {
     "name": "stdout",
     "output_type": "stream",
     "text": [
      "Training Data Results \n",
      " Precision: 0.8396946564885496 \n",
      " Recall: 0.9016393442622951 \n",
      " Accuracy: 0.8546255506607929 \n",
      " F1 Score: 0.8695652173913043\n",
      "Testing Data Results \n",
      " Precision: 0.8125 \n",
      " Recall: 0.9069767441860465 \n",
      " Accuracy: 0.8289473684210527 \n",
      " F1 Score: 0.8571428571428572\n"
     ]
    }
   ],
   "source": [
    "#Your code here\n",
    "from sklearn.metrics import precision_score, recall_score, accuracy_score, f1_score\n",
    "print(\"Training Data Results\", '\\n', 'Precision: {}'.format(precision_score(y_train, y_hat_train)), '\\n', \"Recall: {}\".format(recall_score(y_train, y_hat_train)),\n",
    "      '\\n', 'Accuracy: {}'.format(accuracy_score(y_train, y_hat_train)), '\\n', 'F1 Score: {}'.format(f1_score(y_train, y_hat_train)))\n",
    "\n",
    "print(\"Testing Data Results\", '\\n', 'Precision: {}'.format(precision_score(y_test, y_hat_test)), '\\n', \"Recall: {}\".format(recall_score(y_test, y_hat_test)),\n",
    "      '\\n', 'Accuracy: {}'.format(accuracy_score(y_test, y_hat_test)), '\\n', 'F1 Score: {}'.format(f1_score(y_test, y_hat_test)))\n",
    "\n"
   ]
  },
  {
   "cell_type": "markdown",
   "metadata": {},
   "source": [
    "## 9. Comparing Precision, Recall, Accuracy, and F1-Score of Test vs Train Sets\n"
   ]
  },
  {
   "cell_type": "markdown",
   "metadata": {},
   "source": [
    "Calculate and then plot the precision, recall, accuracy, and F1-score for the test and train splits using different train set sizes. What do you notice?"
   ]
  },
  {
   "cell_type": "code",
   "execution_count": 62,
   "metadata": {},
   "outputs": [],
   "source": [
    "import  matplotlib.pyplot as plt\n",
    "import numpy as np\n",
    "%matplotlib inline"
   ]
  },
  {
   "cell_type": "code",
   "execution_count": 63,
   "metadata": {},
   "outputs": [
    {
     "name": "stderr",
     "output_type": "stream",
     "text": [
      "/anaconda3/lib/python3.7/site-packages/sklearn/linear_model/logistic.py:433: FutureWarning: Default solver will be changed to 'lbfgs' in 0.22. Specify a solver to silence this warning.\n",
      "  FutureWarning)\n",
      "/anaconda3/lib/python3.7/site-packages/sklearn/linear_model/logistic.py:433: FutureWarning: Default solver will be changed to 'lbfgs' in 0.22. Specify a solver to silence this warning.\n",
      "  FutureWarning)\n",
      "/anaconda3/lib/python3.7/site-packages/sklearn/linear_model/logistic.py:433: FutureWarning: Default solver will be changed to 'lbfgs' in 0.22. Specify a solver to silence this warning.\n",
      "  FutureWarning)\n",
      "/anaconda3/lib/python3.7/site-packages/sklearn/linear_model/logistic.py:433: FutureWarning: Default solver will be changed to 'lbfgs' in 0.22. Specify a solver to silence this warning.\n",
      "  FutureWarning)\n",
      "/anaconda3/lib/python3.7/site-packages/sklearn/linear_model/logistic.py:433: FutureWarning: Default solver will be changed to 'lbfgs' in 0.22. Specify a solver to silence this warning.\n",
      "  FutureWarning)\n",
      "/anaconda3/lib/python3.7/site-packages/sklearn/linear_model/logistic.py:433: FutureWarning: Default solver will be changed to 'lbfgs' in 0.22. Specify a solver to silence this warning.\n",
      "  FutureWarning)\n",
      "/anaconda3/lib/python3.7/site-packages/sklearn/linear_model/logistic.py:433: FutureWarning: Default solver will be changed to 'lbfgs' in 0.22. Specify a solver to silence this warning.\n",
      "  FutureWarning)\n",
      "/anaconda3/lib/python3.7/site-packages/sklearn/linear_model/logistic.py:433: FutureWarning: Default solver will be changed to 'lbfgs' in 0.22. Specify a solver to silence this warning.\n",
      "  FutureWarning)\n",
      "/anaconda3/lib/python3.7/site-packages/sklearn/linear_model/logistic.py:433: FutureWarning: Default solver will be changed to 'lbfgs' in 0.22. Specify a solver to silence this warning.\n",
      "  FutureWarning)\n",
      "/anaconda3/lib/python3.7/site-packages/sklearn/linear_model/logistic.py:433: FutureWarning: Default solver will be changed to 'lbfgs' in 0.22. Specify a solver to silence this warning.\n",
      "  FutureWarning)\n",
      "/anaconda3/lib/python3.7/site-packages/sklearn/linear_model/logistic.py:433: FutureWarning: Default solver will be changed to 'lbfgs' in 0.22. Specify a solver to silence this warning.\n",
      "  FutureWarning)\n",
      "/anaconda3/lib/python3.7/site-packages/sklearn/linear_model/logistic.py:433: FutureWarning: Default solver will be changed to 'lbfgs' in 0.22. Specify a solver to silence this warning.\n",
      "  FutureWarning)\n",
      "/anaconda3/lib/python3.7/site-packages/sklearn/linear_model/logistic.py:433: FutureWarning: Default solver will be changed to 'lbfgs' in 0.22. Specify a solver to silence this warning.\n",
      "  FutureWarning)\n",
      "/anaconda3/lib/python3.7/site-packages/sklearn/linear_model/logistic.py:433: FutureWarning: Default solver will be changed to 'lbfgs' in 0.22. Specify a solver to silence this warning.\n",
      "  FutureWarning)\n",
      "/anaconda3/lib/python3.7/site-packages/sklearn/linear_model/logistic.py:433: FutureWarning: Default solver will be changed to 'lbfgs' in 0.22. Specify a solver to silence this warning.\n",
      "  FutureWarning)\n",
      "/anaconda3/lib/python3.7/site-packages/sklearn/linear_model/logistic.py:433: FutureWarning: Default solver will be changed to 'lbfgs' in 0.22. Specify a solver to silence this warning.\n",
      "  FutureWarning)\n",
      "/anaconda3/lib/python3.7/site-packages/sklearn/linear_model/logistic.py:433: FutureWarning: Default solver will be changed to 'lbfgs' in 0.22. Specify a solver to silence this warning.\n",
      "  FutureWarning)\n",
      "/anaconda3/lib/python3.7/site-packages/sklearn/linear_model/logistic.py:433: FutureWarning: Default solver will be changed to 'lbfgs' in 0.22. Specify a solver to silence this warning.\n",
      "  FutureWarning)\n",
      "/anaconda3/lib/python3.7/site-packages/sklearn/linear_model/logistic.py:433: FutureWarning: Default solver will be changed to 'lbfgs' in 0.22. Specify a solver to silence this warning.\n",
      "  FutureWarning)\n",
      "/anaconda3/lib/python3.7/site-packages/sklearn/linear_model/logistic.py:433: FutureWarning: Default solver will be changed to 'lbfgs' in 0.22. Specify a solver to silence this warning.\n",
      "  FutureWarning)\n",
      "/anaconda3/lib/python3.7/site-packages/sklearn/linear_model/logistic.py:433: FutureWarning: Default solver will be changed to 'lbfgs' in 0.22. Specify a solver to silence this warning.\n",
      "  FutureWarning)\n",
      "/anaconda3/lib/python3.7/site-packages/sklearn/linear_model/logistic.py:433: FutureWarning: Default solver will be changed to 'lbfgs' in 0.22. Specify a solver to silence this warning.\n",
      "  FutureWarning)\n",
      "/anaconda3/lib/python3.7/site-packages/sklearn/linear_model/logistic.py:433: FutureWarning: Default solver will be changed to 'lbfgs' in 0.22. Specify a solver to silence this warning.\n",
      "  FutureWarning)\n",
      "/anaconda3/lib/python3.7/site-packages/sklearn/linear_model/logistic.py:433: FutureWarning: Default solver will be changed to 'lbfgs' in 0.22. Specify a solver to silence this warning.\n",
      "  FutureWarning)\n",
      "/anaconda3/lib/python3.7/site-packages/sklearn/linear_model/logistic.py:433: FutureWarning: Default solver will be changed to 'lbfgs' in 0.22. Specify a solver to silence this warning.\n",
      "  FutureWarning)\n",
      "/anaconda3/lib/python3.7/site-packages/sklearn/linear_model/logistic.py:433: FutureWarning: Default solver will be changed to 'lbfgs' in 0.22. Specify a solver to silence this warning.\n",
      "  FutureWarning)\n",
      "/anaconda3/lib/python3.7/site-packages/sklearn/linear_model/logistic.py:433: FutureWarning: Default solver will be changed to 'lbfgs' in 0.22. Specify a solver to silence this warning.\n",
      "  FutureWarning)\n",
      "/anaconda3/lib/python3.7/site-packages/sklearn/linear_model/logistic.py:433: FutureWarning: Default solver will be changed to 'lbfgs' in 0.22. Specify a solver to silence this warning.\n",
      "  FutureWarning)\n",
      "/anaconda3/lib/python3.7/site-packages/sklearn/linear_model/logistic.py:433: FutureWarning: Default solver will be changed to 'lbfgs' in 0.22. Specify a solver to silence this warning.\n",
      "  FutureWarning)\n",
      "/anaconda3/lib/python3.7/site-packages/sklearn/linear_model/logistic.py:433: FutureWarning: Default solver will be changed to 'lbfgs' in 0.22. Specify a solver to silence this warning.\n",
      "  FutureWarning)\n",
      "/anaconda3/lib/python3.7/site-packages/sklearn/linear_model/logistic.py:433: FutureWarning: Default solver will be changed to 'lbfgs' in 0.22. Specify a solver to silence this warning.\n",
      "  FutureWarning)\n",
      "/anaconda3/lib/python3.7/site-packages/sklearn/linear_model/logistic.py:433: FutureWarning: Default solver will be changed to 'lbfgs' in 0.22. Specify a solver to silence this warning.\n",
      "  FutureWarning)\n",
      "/anaconda3/lib/python3.7/site-packages/sklearn/linear_model/logistic.py:433: FutureWarning: Default solver will be changed to 'lbfgs' in 0.22. Specify a solver to silence this warning.\n",
      "  FutureWarning)\n",
      "/anaconda3/lib/python3.7/site-packages/sklearn/linear_model/logistic.py:433: FutureWarning: Default solver will be changed to 'lbfgs' in 0.22. Specify a solver to silence this warning.\n",
      "  FutureWarning)\n",
      "/anaconda3/lib/python3.7/site-packages/sklearn/linear_model/logistic.py:433: FutureWarning: Default solver will be changed to 'lbfgs' in 0.22. Specify a solver to silence this warning.\n",
      "  FutureWarning)\n",
      "/anaconda3/lib/python3.7/site-packages/sklearn/linear_model/logistic.py:433: FutureWarning: Default solver will be changed to 'lbfgs' in 0.22. Specify a solver to silence this warning.\n",
      "  FutureWarning)\n",
      "/anaconda3/lib/python3.7/site-packages/sklearn/linear_model/logistic.py:433: FutureWarning: Default solver will be changed to 'lbfgs' in 0.22. Specify a solver to silence this warning.\n",
      "  FutureWarning)\n",
      "/anaconda3/lib/python3.7/site-packages/sklearn/linear_model/logistic.py:433: FutureWarning: Default solver will be changed to 'lbfgs' in 0.22. Specify a solver to silence this warning.\n",
      "  FutureWarning)\n",
      "/anaconda3/lib/python3.7/site-packages/sklearn/linear_model/logistic.py:433: FutureWarning: Default solver will be changed to 'lbfgs' in 0.22. Specify a solver to silence this warning.\n",
      "  FutureWarning)\n",
      "/anaconda3/lib/python3.7/site-packages/sklearn/linear_model/logistic.py:433: FutureWarning: Default solver will be changed to 'lbfgs' in 0.22. Specify a solver to silence this warning.\n",
      "  FutureWarning)\n",
      "/anaconda3/lib/python3.7/site-packages/sklearn/linear_model/logistic.py:433: FutureWarning: Default solver will be changed to 'lbfgs' in 0.22. Specify a solver to silence this warning.\n",
      "  FutureWarning)\n",
      "/anaconda3/lib/python3.7/site-packages/sklearn/linear_model/logistic.py:433: FutureWarning: Default solver will be changed to 'lbfgs' in 0.22. Specify a solver to silence this warning.\n",
      "  FutureWarning)\n",
      "/anaconda3/lib/python3.7/site-packages/sklearn/linear_model/logistic.py:433: FutureWarning: Default solver will be changed to 'lbfgs' in 0.22. Specify a solver to silence this warning.\n",
      "  FutureWarning)\n"
     ]
    },
    {
     "name": "stderr",
     "output_type": "stream",
     "text": [
      "/anaconda3/lib/python3.7/site-packages/sklearn/linear_model/logistic.py:433: FutureWarning: Default solver will be changed to 'lbfgs' in 0.22. Specify a solver to silence this warning.\n",
      "  FutureWarning)\n",
      "/anaconda3/lib/python3.7/site-packages/sklearn/linear_model/logistic.py:433: FutureWarning: Default solver will be changed to 'lbfgs' in 0.22. Specify a solver to silence this warning.\n",
      "  FutureWarning)\n",
      "/anaconda3/lib/python3.7/site-packages/sklearn/linear_model/logistic.py:433: FutureWarning: Default solver will be changed to 'lbfgs' in 0.22. Specify a solver to silence this warning.\n",
      "  FutureWarning)\n",
      "/anaconda3/lib/python3.7/site-packages/sklearn/linear_model/logistic.py:433: FutureWarning: Default solver will be changed to 'lbfgs' in 0.22. Specify a solver to silence this warning.\n",
      "  FutureWarning)\n",
      "/anaconda3/lib/python3.7/site-packages/sklearn/linear_model/logistic.py:433: FutureWarning: Default solver will be changed to 'lbfgs' in 0.22. Specify a solver to silence this warning.\n",
      "  FutureWarning)\n",
      "/anaconda3/lib/python3.7/site-packages/sklearn/linear_model/logistic.py:433: FutureWarning: Default solver will be changed to 'lbfgs' in 0.22. Specify a solver to silence this warning.\n",
      "  FutureWarning)\n",
      "/anaconda3/lib/python3.7/site-packages/sklearn/linear_model/logistic.py:433: FutureWarning: Default solver will be changed to 'lbfgs' in 0.22. Specify a solver to silence this warning.\n",
      "  FutureWarning)\n",
      "/anaconda3/lib/python3.7/site-packages/sklearn/linear_model/logistic.py:433: FutureWarning: Default solver will be changed to 'lbfgs' in 0.22. Specify a solver to silence this warning.\n",
      "  FutureWarning)\n",
      "/anaconda3/lib/python3.7/site-packages/sklearn/linear_model/logistic.py:433: FutureWarning: Default solver will be changed to 'lbfgs' in 0.22. Specify a solver to silence this warning.\n",
      "  FutureWarning)\n",
      "/anaconda3/lib/python3.7/site-packages/sklearn/linear_model/logistic.py:433: FutureWarning: Default solver will be changed to 'lbfgs' in 0.22. Specify a solver to silence this warning.\n",
      "  FutureWarning)\n",
      "/anaconda3/lib/python3.7/site-packages/sklearn/linear_model/logistic.py:433: FutureWarning: Default solver will be changed to 'lbfgs' in 0.22. Specify a solver to silence this warning.\n",
      "  FutureWarning)\n",
      "/anaconda3/lib/python3.7/site-packages/sklearn/linear_model/logistic.py:433: FutureWarning: Default solver will be changed to 'lbfgs' in 0.22. Specify a solver to silence this warning.\n",
      "  FutureWarning)\n",
      "/anaconda3/lib/python3.7/site-packages/sklearn/linear_model/logistic.py:433: FutureWarning: Default solver will be changed to 'lbfgs' in 0.22. Specify a solver to silence this warning.\n",
      "  FutureWarning)\n",
      "/anaconda3/lib/python3.7/site-packages/sklearn/linear_model/logistic.py:433: FutureWarning: Default solver will be changed to 'lbfgs' in 0.22. Specify a solver to silence this warning.\n",
      "  FutureWarning)\n",
      "/anaconda3/lib/python3.7/site-packages/sklearn/linear_model/logistic.py:433: FutureWarning: Default solver will be changed to 'lbfgs' in 0.22. Specify a solver to silence this warning.\n",
      "  FutureWarning)\n",
      "/anaconda3/lib/python3.7/site-packages/sklearn/linear_model/logistic.py:433: FutureWarning: Default solver will be changed to 'lbfgs' in 0.22. Specify a solver to silence this warning.\n",
      "  FutureWarning)\n",
      "/anaconda3/lib/python3.7/site-packages/sklearn/linear_model/logistic.py:433: FutureWarning: Default solver will be changed to 'lbfgs' in 0.22. Specify a solver to silence this warning.\n",
      "  FutureWarning)\n",
      "/anaconda3/lib/python3.7/site-packages/sklearn/linear_model/logistic.py:433: FutureWarning: Default solver will be changed to 'lbfgs' in 0.22. Specify a solver to silence this warning.\n",
      "  FutureWarning)\n",
      "/anaconda3/lib/python3.7/site-packages/sklearn/linear_model/logistic.py:433: FutureWarning: Default solver will be changed to 'lbfgs' in 0.22. Specify a solver to silence this warning.\n",
      "  FutureWarning)\n",
      "/anaconda3/lib/python3.7/site-packages/sklearn/linear_model/logistic.py:433: FutureWarning: Default solver will be changed to 'lbfgs' in 0.22. Specify a solver to silence this warning.\n",
      "  FutureWarning)\n",
      "/anaconda3/lib/python3.7/site-packages/sklearn/linear_model/logistic.py:433: FutureWarning: Default solver will be changed to 'lbfgs' in 0.22. Specify a solver to silence this warning.\n",
      "  FutureWarning)\n",
      "/anaconda3/lib/python3.7/site-packages/sklearn/linear_model/logistic.py:433: FutureWarning: Default solver will be changed to 'lbfgs' in 0.22. Specify a solver to silence this warning.\n",
      "  FutureWarning)\n",
      "/anaconda3/lib/python3.7/site-packages/sklearn/linear_model/logistic.py:433: FutureWarning: Default solver will be changed to 'lbfgs' in 0.22. Specify a solver to silence this warning.\n",
      "  FutureWarning)\n",
      "/anaconda3/lib/python3.7/site-packages/sklearn/linear_model/logistic.py:433: FutureWarning: Default solver will be changed to 'lbfgs' in 0.22. Specify a solver to silence this warning.\n",
      "  FutureWarning)\n",
      "/anaconda3/lib/python3.7/site-packages/sklearn/linear_model/logistic.py:433: FutureWarning: Default solver will be changed to 'lbfgs' in 0.22. Specify a solver to silence this warning.\n",
      "  FutureWarning)\n",
      "/anaconda3/lib/python3.7/site-packages/sklearn/linear_model/logistic.py:433: FutureWarning: Default solver will be changed to 'lbfgs' in 0.22. Specify a solver to silence this warning.\n",
      "  FutureWarning)\n",
      "/anaconda3/lib/python3.7/site-packages/sklearn/linear_model/logistic.py:433: FutureWarning: Default solver will be changed to 'lbfgs' in 0.22. Specify a solver to silence this warning.\n",
      "  FutureWarning)\n",
      "/anaconda3/lib/python3.7/site-packages/sklearn/linear_model/logistic.py:433: FutureWarning: Default solver will be changed to 'lbfgs' in 0.22. Specify a solver to silence this warning.\n",
      "  FutureWarning)\n",
      "/anaconda3/lib/python3.7/site-packages/sklearn/linear_model/logistic.py:433: FutureWarning: Default solver will be changed to 'lbfgs' in 0.22. Specify a solver to silence this warning.\n",
      "  FutureWarning)\n",
      "/anaconda3/lib/python3.7/site-packages/sklearn/linear_model/logistic.py:433: FutureWarning: Default solver will be changed to 'lbfgs' in 0.22. Specify a solver to silence this warning.\n",
      "  FutureWarning)\n",
      "/anaconda3/lib/python3.7/site-packages/sklearn/linear_model/logistic.py:433: FutureWarning: Default solver will be changed to 'lbfgs' in 0.22. Specify a solver to silence this warning.\n",
      "  FutureWarning)\n",
      "/anaconda3/lib/python3.7/site-packages/sklearn/linear_model/logistic.py:433: FutureWarning: Default solver will be changed to 'lbfgs' in 0.22. Specify a solver to silence this warning.\n",
      "  FutureWarning)\n",
      "/anaconda3/lib/python3.7/site-packages/sklearn/linear_model/logistic.py:433: FutureWarning: Default solver will be changed to 'lbfgs' in 0.22. Specify a solver to silence this warning.\n",
      "  FutureWarning)\n",
      "/anaconda3/lib/python3.7/site-packages/sklearn/linear_model/logistic.py:433: FutureWarning: Default solver will be changed to 'lbfgs' in 0.22. Specify a solver to silence this warning.\n",
      "  FutureWarning)\n",
      "/anaconda3/lib/python3.7/site-packages/sklearn/linear_model/logistic.py:433: FutureWarning: Default solver will be changed to 'lbfgs' in 0.22. Specify a solver to silence this warning.\n",
      "  FutureWarning)\n",
      "/anaconda3/lib/python3.7/site-packages/sklearn/linear_model/logistic.py:433: FutureWarning: Default solver will be changed to 'lbfgs' in 0.22. Specify a solver to silence this warning.\n",
      "  FutureWarning)\n",
      "/anaconda3/lib/python3.7/site-packages/sklearn/linear_model/logistic.py:433: FutureWarning: Default solver will be changed to 'lbfgs' in 0.22. Specify a solver to silence this warning.\n",
      "  FutureWarning)\n",
      "/anaconda3/lib/python3.7/site-packages/sklearn/linear_model/logistic.py:433: FutureWarning: Default solver will be changed to 'lbfgs' in 0.22. Specify a solver to silence this warning.\n",
      "  FutureWarning)\n",
      "/anaconda3/lib/python3.7/site-packages/sklearn/linear_model/logistic.py:433: FutureWarning: Default solver will be changed to 'lbfgs' in 0.22. Specify a solver to silence this warning.\n",
      "  FutureWarning)\n",
      "/anaconda3/lib/python3.7/site-packages/sklearn/linear_model/logistic.py:433: FutureWarning: Default solver will be changed to 'lbfgs' in 0.22. Specify a solver to silence this warning.\n",
      "  FutureWarning)\n",
      "/anaconda3/lib/python3.7/site-packages/sklearn/linear_model/logistic.py:433: FutureWarning: Default solver will be changed to 'lbfgs' in 0.22. Specify a solver to silence this warning.\n",
      "  FutureWarning)\n",
      "/anaconda3/lib/python3.7/site-packages/sklearn/linear_model/logistic.py:433: FutureWarning: Default solver will be changed to 'lbfgs' in 0.22. Specify a solver to silence this warning.\n",
      "  FutureWarning)\n"
     ]
    }
   ],
   "source": [
    "training_Precision = []\n",
    "testing_Precision = []\n",
    "training_Recall = []\n",
    "testing_Recall = []\n",
    "training_Accuracy = []\n",
    "testing_Accuracy = []\n",
    "\n",
    "for i in range(10,95):\n",
    "    X_train, X_test, y_train, y_test = train_test_split(X, y, test_size= i/100) #replace the \"None\" here\n",
    "    logreg = LogisticRegression(fit_intercept = False, C = 1e12)\n",
    "    model_log = logreg.fit(X_train, y_train)\n",
    "    y_hat_test = model_log.predict(X_test)\n",
    "    y_hat_train = model_log.predict(X_train)\n",
    "\n",
    "    training_Precision.append(precision(y_hat_train,y_train))\n",
    "    testing_Precision.append(precision(y_hat_test,y_test))\n",
    "    training_Recall.append(recall(y_hat_train,y_train))\n",
    "    testing_Recall.append(recall(y_hat_test,y_test))\n",
    "    training_Accuracy.append(accuracy(y_hat_train,y_train))\n",
    "    testing_Accuracy.append(accuracy(y_hat_test,y_test))\n",
    "# 6 lines of code here\n"
   ]
  },
  {
   "cell_type": "markdown",
   "metadata": {},
   "source": [
    "Create 4 scatter plots looking at the test and train precision in the first one, test and train recall in the second one, testing and training accuracy in the third one, and testing and training f1-score in the fourth one."
   ]
  },
  {
   "cell_type": "code",
   "execution_count": 64,
   "metadata": {},
   "outputs": [
    {
     "data": {
      "text/plain": [
       "<matplotlib.legend.Legend at 0x1a1ac62080>"
      ]
     },
     "execution_count": 64,
     "metadata": {},
     "output_type": "execute_result"
    },
    {
     "data": {
      "image/png": "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\n",
      "text/plain": [
       "<Figure size 432x288 with 1 Axes>"
      ]
     },
     "metadata": {
      "needs_background": "light"
     },
     "output_type": "display_data"
    }
   ],
   "source": [
    "# code for test and train precision\n",
    "plt.scatter(list(range(10,95)), training_Precision, label = 'training_Precision')\n",
    "plt.scatter(list(range(10,95)), testing_Precision, label = 'testing_Precision')\n",
    "plt.legend()"
   ]
  },
  {
   "cell_type": "code",
   "execution_count": 65,
   "metadata": {},
   "outputs": [
    {
     "data": {
      "text/plain": [
       "<matplotlib.legend.Legend at 0x1a1ab1dd30>"
      ]
     },
     "execution_count": 65,
     "metadata": {},
     "output_type": "execute_result"
    },
    {
     "data": {
      "image/png": "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\n",
      "text/plain": [
       "<Figure size 432x288 with 1 Axes>"
      ]
     },
     "metadata": {
      "needs_background": "light"
     },
     "output_type": "display_data"
    }
   ],
   "source": [
    "# code for test and train recall\n",
    "plt.scatter(list(range(10,95)), training_Recall, label = 'training_Recall')\n",
    "plt.scatter(list(range(10,95)), testing_Recall, label = 'testing_Recall')\n",
    "plt.legend()"
   ]
  },
  {
   "cell_type": "code",
   "execution_count": 66,
   "metadata": {},
   "outputs": [
    {
     "data": {
      "text/plain": [
       "<matplotlib.legend.Legend at 0x1a1bb0e208>"
      ]
     },
     "execution_count": 66,
     "metadata": {},
     "output_type": "execute_result"
    },
    {
     "data": {
      "image/png": "iVBORw0KGgoAAAANSUhEUgAAAXcAAAD8CAYAAACMwORRAAAABHNCSVQICAgIfAhkiAAAAAlwSFlzAAALEgAACxIB0t1+/AAAADl0RVh0U29mdHdhcmUAbWF0cGxvdGxpYiB2ZXJzaW9uIDMuMC4yLCBodHRwOi8vbWF0cGxvdGxpYi5vcmcvOIA7rQAAIABJREFUeJzt3X18FPW96PHPlxAkAQmPHoEg0Nf1qYREQtAqnKpFBIsiD1dqra9TPUW9tor6ukXhHAqU8+qRivdYua09onI59gFJUaJWKhTEVqxWnixFhCMVW5L4ANGkIIEE8rt/bHbZbHZmZ2dnd3Znv+/Xi1fI7GT2N0/f+c3395vfiDEGpZRSwdLF7wIopZTyngZ3pZQKIA3uSikVQBrclVIqgDS4K6VUAGlwV0qpANLgrpRSAaTBXSmlAkiDu1JKBVBXv764f//+ZtiwYX59vVJK5aTt27cfNsYMSDSfb8F92LBhbNu2za+vV0qpnCQif3Uyn6ZllFIqgDS4K6VUAGlwV0qpAPIt5x5Pa2srtbW1HD9+3O+iqAzp3r07paWlFBYW+l0UpQIlq4J7bW0tZ555JsOGDUNE/C6OSjNjDA0NDdTW1jJ8+HC/i6NUoGRVWub48eP069dPA3ueEBH69eund2pKpUFWBXdAA3ue0f2tVHpkXXBXSimVOg3uSikVQBrcozQ2NvLYY48l/Xdf/epXaWxstJ1nwYIFbNy40W3RLK1duxYRYe/evZ4vWymVu3I6uNfsrGPsklcYPvclxi55hZqddSktzyq4nzp1yvbv1q1bR+/evW3nWbx4MVdddVVK5Ytn1apVjBs3jmeeecbzZUdLtA2UUtklYXAXkRUi8omI7Lb4XERkmYjsF5FdIlLpfTE7q9lZx7zn/kxdYzMGqGtsZt5zf04pwM+dO5e//OUvXHTRRYwZM4Yrr7ySm266iZEjRwIwdepURo8ezYgRI1i+fHnk74YNG8bhw4f54IMPuPDCC7ntttsYMWIEV199Nc3NzQDccsstrFmzJjL/woULqaysZOTIkZFa96FDh5gwYQKVlZXccccdDB06lMOHD1uW9+jRo7z++us89dRTnYL7Qw89xMiRI6moqGDu3LkA7N+/n6uuuoqKigoqKyv5y1/+wquvvsq1114b+bu77rqLlStXRsq5ePFixo0bx69+9SueeOIJxowZQ0VFBTNmzODYsWMAfPzxx0ybNo2KigoqKir4wx/+wPe+9z0effTRyHL/9V//lWXLlrnaL0qp5Dnp574S+DHwtMXn1wDntv+7BPhp+8+0Wrp+H82tHWuTza2nWLp+H1NHDXa1zCVLlrB7927efvttXn31VSZPnszu3bsjfbBXrFhB3759aW5uZsyYMcyYMYN+/fp1WMZ7773HqlWreOKJJ5g5cybPPvssN998c6fv6t+/Pzt27OCxxx7j4Ycf5sknn+T73/8+X/nKV5g3bx4vv/xyhwtIPDU1NUyaNInzzjuPvn37smPHDiorK/nNb35DTU0Nf/zjHykuLubTTz8F4Bvf+AZz585l2rRpHD9+nLa2Ng4ePGj7Hd27d2fLli0ANDQ0cNtttwEwf/58nnrqKe6++25mz57N5Zdfztq1azl16hRHjx5l0KBBTJ8+nXvuuYe2tjaeeeYZ3nrrLWc7QqkEanbWsXT9PuobmxnUu4grLxjA5r2HIr/PmXh+JA5Ez1tSVIgINB5rtZ0v9rNEy4n+frvP4i03XRIGd2PM70VkmM0s1wNPG2MM8KaI9BaRgcaYDz0qY1z1jc1JTXfj4osv7vBwzbJly1i7di0ABw8e5L333usU3IcPH85FF10EwOjRo/nggw/iLnv69OmReZ577jkAtmzZEln+pEmT6NOnj235Vq1axb333gvAjTfeyKpVq6isrGTjxo3ceuutFBcXA9C3b1+OHDlCXV0d06ZNA0JB24mvfe1rkf/v3r2b+fPn09jYyNGjR5k4cSIAr7zyCk8/Hbr2FxQUUFJSQklJCf369WPnzp18/PHHjBo1qtO2UsqN8F17uHJX19jMz9/8W+Tz8F18WPS8jc2tjuaL/mzqqMGdvjN2OdHfb/dZ7HLTyYsnVAcD0dW/2vZpaQ3ug3oXURcnkA/qXeTZd/To0SPy/1dffZWNGzfyxhtvUFxczBVXXBH34Zszzjgj8v+CgoJIWsZqvoKCAk6ePAmEnth0qqGhgVdeeYXdu3cjIpw6dQoR4aGHHsIY06n/uNWyu3btSltbW+T32HWK3ga33HILNTU1VFRUsHLlSl599VXbMs6aNYuVK1fy0Ucf8c///M+O100pO/Hu2mOF7+LD/3czX3QmwMl3OpVqhsEpLxpU4z2FEjeSiMjtIrJNRLYdOnQopS+dM/F8igoLOkwrKixgzsTzXS/zzDPP5MiRI3E/a2pqok+fPhQXF7N3717efPNN199jZdy4cVRXVwOwYcMGPvvsM8t516xZwz/90z/x17/+lQ8++ICDBw8yfPhwtmzZwtVXX82KFSsiOfFPP/2UXr16UVpaSk1NDQAnTpzg2LFjDB06lD179nDixAmamprYtGmT5XceOXKEgQMH0trayi9+8YvI9PHjx/PTn/4UCDW8/v3vfwdg2rRpvPzyy2zdujVSy1cqVU7vzusbmx3NazdfeLqXGYF0LC8eL4J7LTAk6vdSoD7ejMaY5caYKmNM1YABCV8kYmvqqME8OH0kg3sXIcDg3kU8OH1kSlfDfv36MXbsWMrKypgzZ06HzyZNmsTJkycpLy/ne9/7Hl/60pdSKn88CxcuZMOGDZG8+cCBAznzzDPjzrtq1apIiiVsxowZ/PKXv2TSpElMmTKFqqoqLrroIh5++GEAfvazn7Fs2TLKy8u57LLL+OijjxgyZAgzZ86kvLycb3zjG4waNcqyfP/2b//GJZdcwoQJE7jgggsi0x999FE2b97MyJEjGT16NO+88w4A3bp148orr2TmzJkUFBRYLVappDi9Ox/Uu8jRvHbzhad7mRFIx/LiESepgPac+6+NMWVxPpsM3AV8lVBD6jJjzMWJlllVVWVi38T07rvvcuGFFzoqeBCdOHGCgoICunbtyhtvvMGdd97J22+/7XexXGtra6OyspJf/epXnHvuuZbz5ft+V8mJzX/HU1RYwIPTQ73c7Oa1my/8Wbyceyqil+uGiGw3xlQlmi9hzl1EVgFXAP1FpBZYCBQCGGP+E1hHKLDvB44Bt7oqseJvf/sbM2fOpK2tjW7duvHEE0/4XSTX9uzZw7XXXsu0adNsA7tSyQoHRae9ZaLntestE7vM6M9ivzMXess4qrmng9bcnWloaGD8+PGdpm/atCkwvU90vyvlnGc1d+Wvfv365XRqRinlj5wefkAppVR8GtyVUiqANLgrpVQAaXBXSqkA0uAexe147gA/+tGPIk+EgrMx3t245557GDx4cIchA5RSKlZuB/dd1fBIGSzqHfq5qzqlxXkZ3J2M8Z6strY21q5dy5AhQ/j973/v6bKjGWP04qFUjsvd4L6rGl6cDU0HARP6+eLslAJ89Hjuc+bMYenSpYwZM4by8nIWLlwIwOeff87kyZOpqKigrKyM1atXs2zZMurr67nyyiu58sorAWdjvG/dupXy8nIuvfRS5syZQ1lZpweAO9i8eTNlZWXceeedrFq1KjL96NGj3HrrrYwcOZLy8nKeffZZAF5++WUqKyupqKiI9JVftGhRZDgCgLKyMj744INIOb/97W9TWVnJwYMHufPOO6mqqmLEiBGR9Q+X+7LLLqOiooKLL76YI0eO8I//+I8dumyOHTuWXbt2ud4XSqkUGWN8+Td69GgTa8+ePZ2mWfqPEcYs7NX533+McL6MGAcOHDAjRoT+fv369ea2224zbW1t5tSpU2by5Mnmd7/7nVmzZo2ZNWtW5G8aGxuNMcYMHTrUHDp0KDI9/PuBAwdMQUGB2blzpzHGmBtuuMH87Gc/M8YYM2LECPP6668bY4x54IEHIt9t5Vvf+pZ5+umnTVNTkxk0aJBpaWkxxhhz//33m3vuuScy36effmo++eQTU1paat5//31jjDENDQ3GGGMWLlxoli5dGpl3xIgR5sCBA+bAgQNGRMwbb7wR+Sz8NydPnjSXX365+dOf/mROnDhhhg8fbt566y1jjDFNTU2mtbXVrFy5MlKGffv2mXj710pS+12pPAdsMw5ibO7W3Jtqk5uepA0bNrBhwwZGjRpFZWUle/fu5b333mPkyJFs3LiRBx54gNdee42SkpKEy4o3xntjYyNHjhzhsssuA+Cmm26yXUZLSwvr1q1j6tSp9OrVi0suuYQNGzYAsHHjRr7zne9E5u3Tpw9vvvkmX/7ylyPj0fft2zdhOYcOHdphQLTq6moqKysZNWoU77zzDnv27GHfvn0MHDiQMWPGANCrVy+6du3KDTfcwK9//WtaW1tZsWIFt9xyS8LvU0qlT+4+oVpS2p6SiTPdA8YY5s2bxx133NHps+3bt7Nu3TrmzZvH1VdfzYIFC2yXFW+Md5PksA8vv/wyTU1NkVf+HTt2jOLiYiZPnmw5fnvsNLAfvz167PYDBw7w8MMPs3XrVvr06cMtt9zC8ePHLZdbXFzMhAkTeP7556muriZ2aAmlVGblbs19/AIojBk2s7AoNN2l6PHcJ06cyIoVKzh69CgAdXV1fPLJJ9TX11NcXMzNN9/Md7/7XXbs2NHpb53o06cPZ555ZmRc+EQvuF61ahVPPvlkJD9+4MABNmzYwLFjx7j66qv58Y9/HJn3s88+49JLL+V3v/sdBw4cAIi8am/YsGGRMu/YsSPyeay///3v9OjRg5KSEj7++GN+85vfAHDBBRdQX1/P1q1bgdAY7+GXjcyaNYvZs2czZswYR3cKSqn0yd2ae/nM0M9Ni0OpmJLSUGAPT3chejz3a665hptuuolLL70UgJ49e/Lzn/+c/fv3M2fOHLp06UJhYWHkJRW3334711xzDQMHDmTz5s2Ovu+pp57itttuo0ePHlxxxRWWKZ5jx46xfv16Hn/88ci0Hj16MG7cOF588UXmz5/Pd77zHcrKyigoKGDhwoVMnz6d5cuXM336dNra2jjrrLP47W9/y4wZM3j66acjLwE/77zz4n5nRUUFo0aNYsSIEXzhC19g7NixQGiM9tWrV3P33XfT3NxMUVERGzdupGfPnowePZpevXpx6606MKhSftNRIX109OhRevbsCYRezv3hhx/y6KOP+lwq9+rr67niiivYu3cvXbo4vynMt/2uVCqcjgqZu2mZAHjppZe46KKLKCsr47XXXmP+/Pl+F8m1p59+mksuuYQf/OAHSQV2pVR6aM09y6xfv54HHnigw7Thw4ezdu1an0qUfrrflXIuZ8dzt+qNkS8mTpyYVy+T9qtyoVTQZdX9c/fu3WloaNATPk8YY2hoaKB79+5+F0WpwMmqmntpaSm1tbUcOnTI76KoDOnevTulpd48m6CUOi2rgnthYWHkiUqllFLuZVVwV0qpbFGzs46l6/dR39jMoN5FzJl4PlNHDfa7WI5pcFdKJS3XA18iNTvrmPfcn2luPQVAXWMz8577M0DOrGdWNagqpbJfOPDVNTZjOB34anbW+V00zyxdvy8S2MOaW0+xdP0+n0qUPA3uSqmkBCHwJVLf2JzU9GykwV0plZQgBL5EBvUuSmp6NtLgrpRKil+Br2ZnHWOXvMLwuS8xdskraU0DzZl4PkWFBR2mFRUWMGfi+Wn7Tq9pcFdKJcWPwJfpPP/UUYN5cPpIBvcuQoDBvYt4cPrInGlMBe0to5RKUjjAZbK3jF2eP13fO3XU4JwK5rE0uCulkpbpwJcPeX6vaVpGKZX1gtDAmWka3JVSWS8IDZyZpmkZpVTW8yPPn+s0uCulckKuN3BmmqZllFIqgDS4K6VUAGlwV0qpANLgrpRSAaQNqnZ2VcOmxdBUCyWlMH4BlM/0u1QqSUEfe1ypeBzV3EVkkojsE5H9IjI3zudDRWSTiOwSkVdFJPdfirmrGl6cDU0HARP6+eLs0HSVM/Jh7HGl4kkY3EWkAPgJcA3wReDrIvLFmNkeBp42xpQDi4EHvS5oSnZVwyNlsKh36KeTAL1pMbTGPNrc2hyarnJGPow9nkgmR1NU2cNJWuZiYL8x5n0AEXkGuB7YEzXPF4H72v+/GajxspApCdfAw4E6XAMH+xRLU21y01VWyvcxSTL1ujhNfWUfJ2mZwcDBqN9r26dF+xMwo/3/04AzRaRf6sXzgNsaeIlFZslquspK+T4mSSbuXDT1lZ2cBHeJM83E/P5d4HIR2QlcDtQBJzstSOR2EdkmItsOHTqUdGFdcVsDH78ACmMCQGFRaLryhZv0Qr6PSZKJOxdNfWUnJ2mZWmBI1O+lQH30DMaYemA6gIj0BGYYY5piF2SMWQ4sB6iqqoq9QKRHSWl7o2ic6WDdIyacstHeMhljd2vvNr2Q72OSDOpdRF2cQO7lnUu+p76ylZPgvhU4V0SGE6qR3wjcFD2DiPQHPjXGtAHzgBVeF9S18Qs65tzhdA08UT4+OsirtEoUvFN5WUM+j0kyZ+L5HbYreH/nkokLiEpewrSMMeYkcBewHngXqDbGvCMii0VkSvtsVwD7ROS/gX8AfpCm8iavfCZctwxKhgAS+nndstD0NPWI8aV3gpseQVkk0a19ttcOs7VHSiZeF5fvqa9s5eghJmPMOmBdzLQFUf9fA6zxtmgesqqBp6FHTKZ6J3TgtkdQhjjpSZEoeGdz7dCXfZ4Et3cuTnvA5HvqK1vl9xOqifLxLvjxrkfbOxCfg7vTwJcoeGciveCWV/s8m7oTJnvByufUV7bK77Fl0tAjJlPpg+g0QFsW98lPlG4Jr0ddY3OnblnRwdur9EI60ide7PNs606oPWByX37X3NPQI8aqBtpFhOFzX/KkRhZbq6pv60dpl8OdZ8yCPvl2gS92PQyhfreGUPCO3U6p1g5TTZ9Y1ay9SBn5cscXI3r9rLqyZUsbh0osv4M7eN4jJl76AOCUCZ0uXuRjYwPBQydnsqTwSYql5fRMWdIn3y7wxQto4cD++tyveF6WVAKo3YUhlZRROKDG20bQMZimM20Tu35WsqGNI5FsSm/5SYO7x2Ibl7qIRAJ7WKo1stja0wtt46AV7u9aTWmXhs53ID6ObmkX+O5b/Xbcv0lX7TDZ9El0kLDbj+ELkV0f/XifOQmo4WCazF2Hm+AW78IXK1vaOOxke+N2JmlwT4Po9MHwuS/FnSeVABavNvxC2zi2F0/oXOP1uSdN7MXumz3f4v7C1RQ//xFf6t6ff2+5IXRxipKu2mEy6ZPYIBEb2MPC+9EqZRQv2Ny3+m3uXf02BXEuGNGig6nTuw63wc3ueBTImRpwsndnQa7lBzK4Z9MO87ILX/QtfDg3HWZZq8qCnjSRwLerGl58HJpD5TmbQ/yw8EloJRLg01k7TJQ+SVRTjyfRfrRKPYH1BQM6tzk4vetwm3qyOk69TpGl+9xM5u4s6LX8wPWWybZeB1494BG9XnC68RES9Byx7ElzMPMPO8W50BRJC//S7Vdpe8Amml2Pm9jjxklgd7If3dyhhQNqbFfReGKnu+25k4kHkZI9N930bEpmoLig9wjK2Zq7VQ0gG3odRPPqAQ/XjY9Wffkh6RRNyrUuiwvN2RzmwJLJzpeTAqv0iZOcM0CBCG3GOF5/qxqxFauA6rTRNuGdokX7SyYeRErm3HRbq06mcTvbn3pOVU4Gd7sd79cOswt8Xjzgkezt5ukc9wzmF/wnXU8dj79ghykaT25h0/DQWHT5UglMTo6PosKCpO8srHpPRXNywXAafG2DW4L2l3Q/iGS1jesamzt1E3ZbSUvmIpXNTz17ISeDu92O92OHpRL4nAYlp+sVW5aVRy/maLeTLO7xLMXNH8YvhIOHnTy5Ixq/gJPP393hQnOyoDtdU+yy6cWFx2r7JltTD5cnep/OGD2YzXsPWbaVOL1gOAm+tsHtEX/bX+zuYqLTNJBaJc3pRSqbn3r2Qk4Gd7sd/8jXLnLcaObVrafbwJdMUHJ6IMYry5qWy3ijeDyvl8xOWHO22j5u7xw6dP07NZYtrbO4l2cYJA3Um378qO1Gxp0ay1TLrZRYShee9jTFluO11J/Rjx+2zuzQuJtsTT3ePn12e12H3H46Uh+Oluvzk8xO7mIyWUkL+pg4ORnc7Xa83Q5LV+u421pGMkHJ6YFoW5abbIY/xl23vUR3DtHbeOn6fdS1XMYaLuvwN2+k2B7iupYXlaYQYLAc5ofdnkJaYFuvCZ61jUTv03SkPhwf1ymmxVK9MMUew1ZN1nWNzfQuKqSwQGg9dXqudNSqgzwmTk4G90S12GQazbxobHVby0g2KDk5EG3LUt7eaGnxQFOy3fac3jmEt3G62kOs1tkAY5e8Yh2E4vXe4QSPDngR7nP3jvdMji2U9INyKaTFvKoYRR/D4TGF4mlsbqWwi9CnuJDGY62Bq1VnQk52hXQ7iJSXJ150N63PT5yksKDjsFdOahnpeL9nwi5t5TPhvt2wqBHu203NqbGR9XDSq6NABAF6FxXSvbAL961+u0M3NbttnK73mcZb5zDb7nYppCmsuull4p2tTrttxu6LmlNjmds6i9q2/rQZobatP3NbZ1FzamzC70xHt0G7/QbQ2mYo7taVA0smd+oaqhLLyZo7uLudclLDdnLrGVuLSaaWEb38kjTceiaTR6zZWceWtY+xmmcYdMZh6k1/Hjo5s9MTo9HajOnUrhFdi7PbxulqwIpe53jfbXl35jJNkdI4Mx4MBeG022bsBSWVtFg67kgS7bdUl5/vcja4x3ISlOOdeIVdhGMtJxk+9yVKigr5vOVkJNha3XrGO7nCtYydC662LWMyF4WtLzzOkB1LOcsc4hMZwMHKOYyZckfCbeH0wvf2S8tZLMsjA46VymGWxDwxGstqwK9wALULbulswAqv8/C5L8XN5cYNEnavYLRht/6248x4NBSE026bsRfNVAJ0Kg2cTroJW6VogtIt0Q+BCO5O84GxwSUczD871gqEgm2s5tZT3Lv67UjgCvccmdJlC/d3rWaQnK7xvthoXeMNf6/Ti8LWFx6nbPt8iqQFJPSofsn2+WwFRwHeSvSJ9lq3n1PcpaXD58XSwv1dq3mhZZzlEAfxBvya0mUL9x+rpvT5Bq7ueTYPtX6N/zp6cVr6/Meuh+vhd10O+ZwoSFquo0dDQbjttplKgHZ71+X03Ax6t0Q/BCK4J2ootQoEY5e8EjegxxN9UH6z51vc3/pkpxpv38JugPWTlsnUnIbsWBoK7FGKpIUhO5aCy+Aee6INkjhjwAODujTwwZLJtk8BRweJKV22dBhyuLj5QxYVPs6im0acbsR1wyKF4enwuy6GfHYdJD3qimi1jonanVIJoG7vupx2Ygh6t0Q/BCK4J/NCCCcPSlgJH5S/LVxN8ck4Nd7C1cD3Lf/eSVAIp2L+wRyi06uJgLNM/IDsJC0Ve6LVm/6Uxgnwx4vOphiYWvA6U89YDN1r4YxSKFgAzOwUJO7vWt1xLHlI/eEYmxTG0vX93aVFPOI6SHr0hK7bQJhqAHVz15VMhSZt3RJ9HPLaT4EI7sm+ECLRgxJ26hqb6X7Gh3EDb3HzR7Z/mygoxKZi4vlE+nN2zDSnt76xJ1S8l3ycLOhO8TWLbYPr1FGnu07WNzYzqEtD/MKm8nCMTQqjvvGHcf8kYVrEI66DpMscv1UZ3Kxjpvt1+/6If5a/PD6dcrIrZCy77n92NYd4fzet6+v8ofts3j/jJrZ0m82ULlsin03psoUt3WZbxd2ENbBEXTjjpWKiNZtuHKyc02l6om5q4W57sQ2NL7SNY27rLD5iACBQMoSu1//f0EFvlx9uX5fX536FA0sm08VqvVMYM8ZYXBhMU21GuhsmEr3+jrvplc+E65ZByRDC25vrlgU6yGRitElbCY7jIAtEzd2uJmXVzSre06zf7PkW881ToYc8pGPvEaDzq+yiOayB2dWczrJIxRgDH8sADo6O31smmbRUrN8WXM5Xrr8rtUfV0zBmzMf052wOxZ0+Z+L5bFn7WPswBqEG7R9xI+Mmftv192VMEjn+bHovgVu+59Kz+OXx6SbGwbjV6VBVVWW2bduW9u+JF9wsG58eKYubE61t6w8Q9yXUxoD0HuJJHu+jRf8jbkD7iAGcvWi/5d9ZdSMb3F6TtUo9xXsJdYTFtqBkSOghqKg85rGis1n7eRmXs5NB0sBnpgciQh85irjMcd7zL/N4MOZiesx0Y17rLB69cVT8i0n4rsNvHuR4kzpulbVEx3EOEpHtxpiqRPMFIi1jJ6mnWS2u5qVdGizzykYkdJB4EFQOVs6h2XTrMM0qFRPNTVpKwD6dMH5B6G4kWvjuJJzHbDoIGIqbP2Sa/I6HTs7k3tY7KZIW+soRBHM6x5nkS0G29ZoQ92nKbb0mwKbFnYYw7nrquKtbbTcvhLAVs23crn/QXySRMXbHccAFIi2TiONGJJveDMdbTsYdMjfcs8Qxm1rdmCl3sBXaH1w6zCfS3zIVE81tWsqWXR/wR8o65THD/ePD/++gtRnW/i947nbHNdlQ43MLL7ScfnagqLCAByeeD897c6vt6UBykf0a5/hx0XMo6C+SyBiXzzIEQeDTMkmJbVmH0FX+umUAqacC7JafpoMtLbf3i3pDnOdA20zosaculi3O7Ryus2XO2aNbbbt0VlLvDY23XzuR0Hg+mS6bD4LQVpDNnKZlglNz96Iva4KrfNeYz7om+x0+vKw6LQ1aFnc49aYfQNy+8x04XGfLOy6PuhR6VjuOt19jJdlzKGNPbHrcBzzoL53OJcEI7l72ZbXrzeDiacYOfGq597xvc5zgerKgO092vZnPjrWwpNtTFHHCfhmprHOiW227gBX12Rvd+/PvLTd0GkfHMmVltdxE6+LiwpORXiZenjft22ZKUy1V0o+HupwegM7Pdxjns2AEdx9qxK6k8R2iGRUnuHYdv4BFkQA66vRn0gVMnG6Y4XV2W3O0utDaBSzo8NnZHOKHMQOlWdaO7ZZr9xLyEvc9qdL+wJFX503UtulCqFdZ7AB9DcHTAAAP7ElEQVR02laQecHIuVvkgJPNc6adDzn3pHn9qHaCdgzPt4ddPh7ifvYRA7j0+KP2tWO75VqliZysh5+Pxnt13th0IR7XEtrPudBWkCvyK+eeKzXibG+5T8ej2kn2ukn5jstF6utsDnNgSYIBzuyW63a/+v1ovFfnjcW2GSSh7sM6uqM/ghHck2lg83sQoVTz9k64Xcd0pbes1jkdbRCJApbbYJZouW72a6Lt7bDtwPVxnGzDtNV32jSw2z4op9IqGMHdac3J75qSl6xOtFTWMdMNvum440oUsNz2skmlh06yDbFNtUm1HdB0EGq+Db95AJo/cx7sk7njsCuPxbYpve5BXi9Psktptt7V5qBg5NydCsqjyHZ5bKsHaZysY6a3T7JtEE5P/nTVeKP/tqhPaFqiYOp2X0Hyn0Xzui0nieEoXAXmXGiPyhJOc+75FdxzpeE1EbsTrakW1+voxwmWTMDOlpM/mbK4bYh97nYs9yNYfBbnO7y6KKf73AlKxSsDdGyZeNIwNK0v7G7nU1lHP4akLZ8ZOnkXNdqP0ZNNQ7cmU5ZEDbFW29tuPzo9Xr1Mp6X73Mnj0RvTJRg5d6c8fFmCr+xy1amuYyYafN3IppM/mbK4bYhNtu0gnmQDr91dVLrPnVzp8ZZDHNXcRWSSiOwTkf0iMjfO5+eIyGYR2Skiu0Tkq94X1QNBeVmC3Uh36VzHXdWh2+dFvUM/kxzpMCV+3HVZrW8yZXE7KqHdfoz9rKgvFHQcTTTpwJtoNMt0nzt5PHpjuiTMuYtIAfDfwASgFtgKfN0YsydqnuXATmPMT0Xki8A6Y8wwu+Vm5cBhuSTTPQv8znln+vu9fPgqE/sq1e/Ihpx3UHrLpHk9PGtQFZFLgUXGmIntv88DMMY8GDXP48D7xpgfts//f4wxl9ktV4N7jsm3kz/dvUOyTVA6G/gtA5UQL59QHQxEH+W1wCUx8ywCNojI3UAP4CqLQt0O3A5wzjnnOPjqPJArQSIbct6ZbA9ItL7Z2jbhVqZy3rlyvLuVReNcOcm5xxudO/YS/3VgpTGmFPgq8DMR6bRsY8xyY0yVMaZqwIAByZc2aJJ9a0++5bz9lG/rm4mct0dvqYosy69zwU42VILaOQnutcCQqN9LgfqYeb4FVAMYY94AugP9vShgIFgdiMl0qfPyxHAjHxq8ovdTy+epN1JmCyeB0MsGUy+O90TL9/NcsJNFlQInaZmtwLkiMhyoA24EboqZ52/AeGCliFxIKLh3ftNzkLkZDiCZq7zft3vZPuhZqmL3U/On0KUw1BMlmUf6s00yw1F4kWry6ni349e54CSllEXdrRMGd2PMSRG5C1gPFAArjDHviMhiYJsx5gXgfwNPiMh9hFI2txi/Hn31g90BbXcgJpPnzIbbvaDlmaPF209trdCtBzxwwJ8yuRUdhOKNp5/OQOjV8W7Hj3PB6UUyiypBjh5iMsasA9bFTFsQ9f89wFhvi5ZD7A5ouwNx+nLnV3l9yCO9suHi6YXYIBTvRSmQvvWy3I7hYzf0nt0IN7VaP86FZO4WsqQSlF/DD6SL2+EAkslz5kPO209ZlCtNiZP3uYKz9XLTaJlwuYZIHw23ef1UzgW3DbE5ePHX4O4Fu8CQ6EB0OrZKUJ6uteNnD4igXDydBBsn6+W20TLeduzEnH5ewM3x6/ZcSKUhNgcv/vk1KmS6JHpwIeh9e72Q6sMfXmzjIOwnq4evpABMm/P1SuWhtejtaDl6ZRofjrLaj6muU5aMShr8IX+z7UTMtvLkmoCceL5LclvU7Kxj6fp91Dc2d3yHbJrfr+rLOwLshlF2sk5Zco4H+x2q2fhGpSxpRMlZqeQ0/e4mmk2S6K1Rs7OOec/9mebWUKNrXWMz8577MwBTvWq0zHTXwHT21smxczw3c+7ZNLa38kYqOc0cbOxKK4ftOEvX74sE9rDm1lMsXb/PuzaITLcV2R0LQWlXcSg3a+56MgdPKjU87SbqSn1j/F419Y3N3vbXzmSN1+5YyKI+6JmQm8E920/mLMnN5ZRUTrwseiowlwzqXURdnAA/qHd77TbH0hBA4mMhF9fJpdwM7tl8Mmdje0CucHvi5VmNzCtzJp7fIecOUFRYwJyJ52euEF5XhPRYiNDeMl7LhnHPlXLIsrdMJmgXYleC3VsGsvf2StsDVA6ZOmpw5oJ5rEQdI/QOOCW52Vsmm+Xgk2xK+cKuIqQ94lIWzOCuj7Erlf3sKkJ2A5Bl2ws6slTwgrvfA/nnwxgwSnnBriJke6ebZS/oyFK5m3O3kg1PK2Zre0C+ypWGuVwpp1cS9WyJbWyNla9PITsUvOCuDZoqWq50Tc2VcnrNqiIUG/itBiDT89pS8NIy2qCpouVKw1yulDMsE+1a0cMolAyJP4+e15aCF9y1QVNFy5U7uVwpJ/jTruXHee1nxwwPBC+4a4OmipYrd3K5Uk7w5y4j0+e13x0zPBC8nDtog6Y6LZuHqoiWK+UE/+4yMnleZ0PHjBQFr+auVLRcuZNzUs5sSRPk0l2GW7mUJrMQzJq7UtFy5U7OrpzZ1Jsml+4y3Mr2kWcd0Jq7Urkgm3rT5MrdUCoC0DFDa+5K5YJsSxPkyt2QWwEYOliDu1K5IABpgpyT4xcwTcsolQsCkCZQmaXBXalckA957lRkS0+iLKJpGaVyRY6nCdLGj55EOTDIm9bclVK5LdM9iXLk6VUN7kqp3JbpnkTZ1C3VhgZ3pVRuy/QTs9nWLdWCBnelVG7LdE+iHBl+QYO7Uiq3ZbonUY50S9XeMkqp3JfJnkQ58vSqBnellEpWDnRL1bSMUkoFkAZ3pZQKIA3uSikVQI6Cu4hMEpF9IrJfRObG+fwREXm7/d9/i0ij90VVSinlVMIGVREpAH4CTABqga0i8oIxZk94HmPMfVHz3w2MSkNZlVJKOeSk5n4xsN8Y874xpgV4BrjeZv6vA6u8KJxSSil3nAT3wUD0WwJq26d1IiJDgeHAKxaf3y4i20Rk26FDh5Itq1JKKYecBHeJM81YzHsjsMYYcyreh8aY5caYKmNM1YABA5yWUSmlVJKcBPdaYEjU76VAvcW8N6IpGaWU8p2T4L4VOFdEhotIN0IB/IXYmUTkfKAP8Ia3RVRKKZWshMHdGHMSuAtYD7wLVBtj3hGRxSIyJWrWrwPPGGOsUjZKKaUyxNHYMsaYdcC6mGkLYn5f5F2xlFJKpUKfUFVKqQDS4K6UUgGkwV0ppQJIg7tSSgWQBnellAogDe5KKRVAGtyVUiqANLgrpfLXrmp4pAwW9Q793FXtd4k8oy/IVkrlp13V8OJsaG0O/d50MPQ7ZP3Lr53QmrtSKj9tWnw6sIe1NoemB4AGd6VUfmqqTW56jtHgrpTKTyWlyU3PMRrclVL5afwCKCzqOK2wKDQ9ADS4K6XyU/lMuG4ZlAwBJPTzumXeN6b61CNHe8sopfJX+cz09ozxsUeO1tyVUipVVrVzH3vkaM1dKaVSYVc797FHjtbclVIqFXa1cx975GhwV0qpVNjVzn3skaPBXSmlUmFXO89Uj5w4NOeulFKpGL+gY84dOtbO090jx4LW3JVSKhU+1s7taM1dKaVS5VPt3I7W3JVSKoA0uCulVABpcFdKqQDS4K6UUgGkwV0ppQJIg7tSSgWQBnellAogDe5KKRVAGtyVUiqANLgrpVQAaXBXSqkA0uCulFIBpMFdKaUCSIO7UkoFkKPgLiKTRGSfiOwXkbkW88wUkT0i8o6I/NLbYiqllEpGwvHcRaQA+AkwAagFtorIC8aYPVHznAvMA8YaYz4TkbPSVWCllFKJOam5XwzsN8a8b4xpAZ4Bro+Z5zbgJ8aYzwCMMZ94W0yllFLJcBLcBwMHo36vbZ8W7TzgPBF5XUTeFJFJXhVQKaUyYlc1PFIGi3qHfu6q9rtEKXHymj2JM83EWc65wBVAKfCaiJQZYxo7LEjkduB2gHPOOSfpwiqlVFrsqu74kuumg6HfIeten+eUk5p7LTAk6vdSoD7OPM8bY1qNMQeAfYSCfQfGmOXGmCpjTNWAAQPcllkppby1afHpwB7W2hyanqOcBPetwLkiMlxEugE3Ai/EzFMDXAkgIv0JpWne97KgSimVNk21yU3PAQmDuzHmJHAXsB54F6g2xrwjIotFZEr7bOuBBhHZA2wG5hhjGtJVaKWU8lRJaXLTc4AYE5s+z4yqqiqzbds2X75bKaU6iM25AxQWwXXLsi7nLiLbjTFViebTJ1SVUqp8ZiiQlwwBJPQzCwN7Mpz0llFKqeArn5nTwTyW1tyVUiqANLgrpVQAaXBXSqkA0uCulFIBpMFdKaUCSIO7UkoFkAZ3pZQKIN+eUBWRQ8Bfffny9OoPHPa7EFlKt4013TbWdNt0NNQYk3DkRd+Ce1CJyDYnjwbnI9021nTbWNNt446mZZRSKoA0uCulVABpcPfecr8LkMV021jTbWNNt40LmnNXSqkA0pq7UkoFkAZ3l0RkiIhsFpF3ReQdEbmnfXpfEfmtiLzX/rOP32X1i4gUiMhOEfl1++/DReSP7dtmdftrG/OOiPQWkTUisrf9+LlUj5sQEbmv/XzaLSKrRKS7HjfuaHB37yTwv40xFwJfAr4jIl8E5gKbjDHnApvaf89X9xB6NWPYD4FH2rfNZ8C3fCmV/x4FXjbGXABUENpGeX/ciMhgYDZQZYwpAwoIvbNZjxsXNLi7ZIz50Bizo/3/RwidoIOB64H/ap/tv4Cp/pTQXyJSCkwGnmz/XYCvAGvaZ8nLbSMivYAvA08BGGNajDGN6HET1hUoEpGuQDHwIXrcuKLB3QMiMgwYBfwR+AdjzIcQugAAZ/lXMl/9CLgfaGv/vR/Q2P7CdYBaQhfDfPMF4BDw/9pTVk+KSA/0uMEYUwc8DPyNUFBvArajx40rGtxTJCI9gWeBe40xf/e7PNlARK4FPjHGbI+eHGfWfOyq1RWoBH5qjBkFfE4epmDiaW9nuB4YDgwCegDXxJk1H4+bpGlwT4GIFBIK7L8wxjzXPvljERnY/vlA4BO/yuejscAUEfkAeIbQbfWPgN7tt9sApUC9P8XzVS1Qa4z5Y/vvawgFez1u4CrggDHmkDGmFXgOuAw9blzR4O5Sew75KeBdY8x/RH30AvDN9v9/E3g+02XzmzFmnjGm1BgzjFCD2CvGmG8Am4H/2T5bvm6bj4CDInJ++6TxwB70uIFQOuZLIlLcfn6Ft03eHzdu6ENMLonIOOA14M+cziv/C6G8ezVwDqGD9QZjzKe+FDILiMgVwHeNMdeKyBcI1eT7AjuBm40xJ/wsnx9E5CJCDc3dgPeBWwlVtPL+uBGR7wNfI9QbbScwi1COPe+Pm2RpcFdKqQDStIxSSgWQBnellAogDe5KKRVAGtyVUiqANLgrpVQAaXBXSqkA0uCulFIBpMFdKaUC6P8Doy8G37TzRiMAAAAASUVORK5CYII=\n",
      "text/plain": [
       "<Figure size 432x288 with 1 Axes>"
      ]
     },
     "metadata": {
      "needs_background": "light"
     },
     "output_type": "display_data"
    }
   ],
   "source": [
    "# code for test and train accuracy\n",
    "plt.scatter(list(range(10,95)), training_Accuracy, label = 'training_Accuracy')\n",
    "plt.scatter(list(range(10,95)), testing_Accuracy, label = 'testing_Accuracy')\n",
    "plt.legend()"
   ]
  },
  {
   "cell_type": "code",
   "execution_count": 67,
   "metadata": {},
   "outputs": [
    {
     "data": {
      "text/plain": [
       "<matplotlib.legend.Legend at 0x1a1bb47e48>"
      ]
     },
     "execution_count": 67,
     "metadata": {},
     "output_type": "execute_result"
    },
    {
     "data": {
      "image/png": "iVBORw0KGgoAAAANSUhEUgAAAXcAAAD8CAYAAACMwORRAAAABHNCSVQICAgIfAhkiAAAAAlwSFlzAAALEgAACxIB0t1+/AAAADl0RVh0U29mdHdhcmUAbWF0cGxvdGxpYiB2ZXJzaW9uIDMuMC4yLCBodHRwOi8vbWF0cGxvdGxpYi5vcmcvOIA7rQAAIABJREFUeJzt3X+cFPWd5/HXZ4ZBhh/LuAxZHQYCm3M1WeKCQc8EvPVHDBANgsmCYfM4k0ciXhJj4q4Y2IdBZB85ieZO5S4m8dQzObNRVFSMREgInj+iKyBI/BEPoq4MuBFnGVZkgIH53h/dPfT0VFdXV1f1j+r38/HwIV1dU/3t6qpPfetT3x/mnENERJKlodIFEBGR6Cm4i4gkkIK7iEgCKbiLiCSQgruISAIpuIuIJJCCu4hIAim4i4gkkIK7iEgCDarUB7e2trrx48dX6uNFRGrS5s2b33XOjS60XsWC+/jx49m0aVOlPl5EpCaZ2b8EWU9pGRGRBFJwFxFJIAV3EZEEqljO3UtPTw8dHR0cPHiw0kVJvCFDhtDe3k5TU1OliyIiMaiq4N7R0cGIESMYP348Zlbp4iSWc47Ozk46OjqYMGFCpYsjIjGoqrTMwYMHGTVqlAJ7zMyMUaNG6Q5JJMGqKrgDCuxlov0skmxVF9xFRKR0Cu4iIgmk4J6lq6uL2267rei/+/SnP01XV5fvOkuWLOHXv/512KJ5amxsZNKkSX3/vfnmm3R2dnLOOecwfPhwrrjiikg/T0RqR1W1linWw1t2cdPa19jd1U1bSzMLp5/M7MljQm8vE9y/9rWv9Vt+9OhRGhsb8/7dmjVrCm572bJlocuVT3NzM1u3bu237P333+cf//Efeemll3jppZci/0wRqQ0Fg7uZ3QVcCLzjnJvo8b4BtwKfBg4AX3TOvRB1QXM9vGUXi1f9ju6eowDs6upm8arfAYQO8IsWLeIPf/gDkyZNoqmpieHDh3PiiSeydetWXnnlFWbPns3OnTs5ePAg3/zmN1mwYAFwbJyc/fv3M3PmTKZNm8Zvf/tbxowZwyOPPEJzczNf/OIXufDCC/nc5z7H+PHjufTSS3n00Ufp6enh/vvv55RTTmHPnj3Mnz+fzs5OTj/9dB5//HE2b95Ma2tr4O8wbNgwpk2bxo4dO0LtA5FakFuxO+eU0Wz4/R7Pil72uiObmzCDrgM9vut5VRb9tpP9+X7vRVEJDSpIWuZuYIbP+zOBk9L/LQB+WHqxCrtp7Wt9gT2ju+coN619LfQ2ly9fzoc+9CG2bt3KTTfdxPPPP893v/tdXnnlFQDuuusuNm/ezKZNm1ixYgWdnZ0DtrF9+3a+/vWv8/LLL9PS0sKDDz7o+Vmtra288MILfPWrX+X73/8+ANdffz3nnnsuL7zwAnPmzOGtt97yLW93d3dfSmbOnDmhv7dILclU7HZ1deNIVezuee6tfq8Xr/odD2/ZNWDdru4e9h7oKbhe9nten5m7nezP93svd7txKlhzd849aWbjfVa5CPipc84Bz5lZi5md6Jx7O6Iyetrd1V3U8jDOOOOMfp18VqxYwUMPPQTAzp072b59O6NGjer3NxMmTGDSpEkAfOxjH+PNN9/03PbFF1/ct86qVasAePrpp/u2P2PGDI4//njf8nmlZUSSzqtilyu7oue3rt96mfdmTx4T6DODyt5unKLIuY8Bdma97kgvGxDczWwBqdo948aNK+lD21qa2eURyNtamkvabrZhw4b1/fuJJ57g17/+Nc8++yxDhw7l7LPP9uwEdNxxx/X9u7Gxke5u74tNZr3GxkaOHDkCpHqOioi/oBW4KNbLvBdlpTGO7XmJorWMV28YzyjlnLvdOTfFOTdl9OiCY837Wjj9ZJqb+j/kbG5qZOH0k0Nvc8SIEbz33nue7+3bt4/jjz+eoUOH8vvf/57nnnsu9OfkM23aNFauXAnAunXr2Lt3b+SfIVLrglbg2lqaA63rt15meZSVxji25yWK4N4BjM163Q7sjmC7vmZPHsMNF3+UMS3NGDCmpZkbLv5oSbc6o0aNYurUqUycOJGFCxf2e2/GjBkcOXKEU089le985zuceeaZJX6Dga677jrWrVvHaaedxi9/+UtOPPFERowYUfR2xo8fz9/93d9x9913097e3vfMQCQJvCp2uTIVvULr+q2XXVkM8plBlVoJDcqCpALSOfdf5GktcwFwBanWMv8RWOGcO6PQNqdMmeJyZ2J69dVX+fCHPxyo4El06NAhGhsbGTRoEM8++yxf/epXY82p1/v+ltpVz61lzGyzc25KwfUKBXcz+zlwNtAK/BG4DmgCcM79KN0U8n+SalFzAPiSc67g/HkK7gNt376duXPn0tvby+DBg7nttts4/fTTY/u8et/fIrUoaHAP0lrm8wXed8DXiyib5HHSSSexZcuWfss6Ozs577zzBqy7fv36AS11REQyarqHaj0YNWqUmjuKSNE0toyISAIpuIuIJJCCu4hIAim4i4gkkIJ7lrDjuQPccsstHDhwoO91kDHei/HEE08wcuTIvoHCPvnJTwLw5JNPctpppzFo0CAeeOCByD5PRGpbbQf3bSvh5omwtCX1/20rS9pclMF9zZo1tLS0lFSeXGeddRZbt25l69atfRN/jBs3jrvvvpv58+dH+lkiUttqtynktpXw6JXQkx6AZ9/O1GuAU+eG2mT2eO7nn38+H/jAB1i5ciWHDh1izpw5XH/99bz//vvMnTuXjo4Ojh49yne+8x3++Mc/snv3bs455xxaW1vZsGFDoDHeN27cyJe//OW+Mdh/+ctfFj3Bxvjx4wFoaKjt67SIRKt2I8L6ZccCe0ZPd2p5SNnjuZ9//vls376d559/nq1bt7J582aefPJJHn/8cdra2njxxRd56aWXmDFjBldeeSVtbW1s2LCBDRs2DNhuvjHev/SlL/GjH/2IZ5991nemp4ynnnqqLy3z3e9+N/T3FJHkq92a+76O4pYXad26daxbt47JkycDsH//frZv385ZZ53F1Vdfzbe//W0uvPBCzjrrrILb8hrjvauri/fee49PfOITAMyfP59f/OIXvts566yzCq4jItGIehrPcqvd4D6yPZWK8VoeAeccixcv5vLLLx/w3ubNm1mzZg2LFy/mU5/6FEuWLPHdltcY7xq7XaR6xTGNZ7nVblrmvCXQlDMmclNzanlI2eO5T58+nbvuuov9+/cDsGvXLt555x12797N0KFD+cIXvsDVV1/NCy+8MOBvgzj++OMZMWJE37jw9957b+hyi0i04pjGs9xqt+aeeWi6flkqFTOyPRXYQz5Mhf7juc+cOZP58+fz8Y9/HIDhw4dzzz33sGPHDhYuXEhDQwNNTU388IepKWMXLFjAzJkzOfHEEz3z7l7uvPNOLrvsMoYNG8bZZ5/NyJEjiy7zxo0bmTNnDnv37uXRRx/luuuu4+WXXy56OyJyTDmm8YxboPHc46Ahf1N5/OHDhwOph7lvv/02t956a9k+v972t0hQU5f/xnMazzEtzTyz6NwKlOiYoEP+1m5aJgEee+wxJk2axMSJE3nqqae49tprK10kESGeaTzLrXbTMgkwb9485s2b12/Z2rVr+fa3v91v2YQJE3jooYfKWTSRupZ5aKrWMhFyzpGa3Kk+TZ8+nenTp8f+OWqtI+Jv9uQxNRXMc1VVWmbIkCF0dnYq8MTMOUdnZydDhgypdFFEJCZVVXNvb2+no6ODPXv2VLooiTdkyBDa26PpEyAi1aeqgntTUxMTJkyodDFEpIBK9N6s9R6j5VZVwV1Eql8lem8mocdouVVVzl1Eql8lem8mocdouSm4i0hRKtF7Mwk9RstNwV1EitLW0lzU8lr9zFqn4C4iRalE780k9BgtNz1QFZGiVKL3ZhJ6jJZbVQ0cJiIi/jRwmIhIHVNaRiTh1PmnPim4iySYOv/UL6VlRBJMnX/ql2ruknj1nJZQ55/6peAuiVbvaYm2lmbP6eKi7vxTzxfQaqW0TFJsWwk3T4SlLan/b1tZ6RJVhXpPS5Sj80/mArqrqxvHsQvow1t2RfYZUjzV3LethPXLYF8HjGyH85bAqXMrXaribFsJj14JPeka2r6dqddQU98ljtpfvaclytH5x+8Cqtp75dR3cE9IUGT9smPfIaOnO7W8yr9HJqDv6urGgEyXOq/0SZjgny8t4UjNcB9VoKvmtETc08XV+wW0WgVKy5jZDDN7zcx2mNkij/c/aGbrzWybmT1hZtU1xU++lIVfUPT7u2qzr6O45VUi+3YejgX2jOz0Sdhbf6+0REZU6YN6T0toUK/qVDC4m1kj8ANgJvAR4PNm9pGc1b4P/NQ5dyqwDLgh6oKGlqmd79sJuGO1820r/YOi399Vm5F5rqX5llcJr9v5XJnaX9jc+ezJY7jh4o8yJk+giSL/HlVe/+Etu5i6/DdMWPQYU5f/puIXh6Dl0aBe1SlIzf0MYIdz7nXn3GHgXuCinHU+AqxP/3uDx/uV41c79wuKhWr1Psp+kp63BJpygldTc2p5FQty256p/ZVy6z978hieWXQuVkI5/ESRlqi22n8x5cm+gBowpqWZGy7+aNWkpepVkOA+BtiZ9bojvSzbi8Bn0/+eA4wws1G5GzKzBWa2ycw2lW0SbL/auV9QDJnqKNdJ2u8CsqaVjR+9HkaOBSz1/8+sqJp8e76LXaHb9uzaXxS3/nGlD6LYbrW16im2PJkL6BvLL+CZRecqsFeBIMHdq8KTmx69GvhrM9sC/DWwCzgy4I+cu905N8U5N2X06NFFFzYUv9r5qXNTQdArKIZMdZTjJPW6gPznjR/k4bPXwtIuuOql/oG9gs8O/C52XrfzmYMtt/YXxa1/XOmDUrabufB5PfSFyj2U1EPS2hektUwHMDbrdTuwO3sF59xu4GIAMxsOfNY5ty+qQpbkvCX9W8RA/5TFqXO9a7iF/i6PfAf/rq5uJix6LJKWFEU1PatwiyC/sj6z6Ny+dQq1MinUpC9Ia5W4mgWG3W5uBysvlXooWa7OTxKfIMF9I3CSmU0gVSO/BJifvYKZtQL/5pzrBRYDd0Vd0NAyAazYtuwh/y7fSQH0q7lC+B6SRdWqKtxMMrdMsxqe5ppBK2nrfhduHsvs85Ywe1GwcuRr0ldML9S4mgWG2W6hB8ph7yqiaJa5cPrJAy48ekhaWwoGd+fcETO7AlgLNAJ3OedeNrNlwCbn3GrgbOAGM3PAk8DXYyxzQQMP7qnMvuql4jeUr1bvw+ukyBW2g0fme+WbXsWzVlXhZpLZF7tZDU+zvOkOhtrhdBmiuYuIqxNN3G3X/VIcYzw+L0h5ohpuIa67nNzvcM4po9nw+z2h78Ykv0CdmJxza4A1OcuWZP37AeCBaIsWTqXHEsk9KfIF4syJHfQALnQLn7dWNbI93ZzTY3kZZF/srhm08lhgz4jgLiKO/HCUx1G+3zjfXd6Ylua+lFWx5SnlQudVztxylMLrO9zz3Ft972d/J6CuxwSKQs32UM13wlRDV+jsW/R8D8vaWpqLCiB+t/C5tbzsfXPp8M9ybeOPGHT04LE/CNlMMkxNKvti19b9rvdKJd5FxJEfjuo48vqNr7pvK9+6bystzU00NRo9R49VAfJdpIOWJ+yFrhyVoiD9GrIbH1T6PK51NRnc/Q7ESj3lzxf4/HKXxQSQfOU36Fe7yt03d+8/g/2Dj7Bs2IMM7f7X0OPnlHLy913sbh4by11ESfnhPGMLFXowPrK5CTPoOtDje6Hz+o0zobyru4emBuP4oU0FtxP0uA57oStHpSjoOei3nlrrBFeTwd3vQKzEU/4ggc8r8F9131bP7XkdwEG/l9e+eeDwJ3h26Hk8s/TcY8Fs1QIY2c7GD32Db71yUsHaeCQnf8gWSIWEzg97tCTqXnUFi+7dQoOdxdE8k8c7UoE5w+9CVygY9fQ6hg4exJYln/JdL+jvX/BCV+TFLMpg6tfYIJsDGs08979a6wRXk8Hd70C8ed6ksj/lLxT48rWkKHjCZp2Iv2o+gSWDP8sDhz/Rt57X9/I9ST2C2cTN1/Kxnq+wi2ns6upm4f0vcv2jLw+oSfrVZAMPwBW25VIAoVrBeLQkauYQCwet5JHD04raVL4LXZCAFiSAFgra2XeOI5ubGNLUMPBuwKdZbFtLa+yVoiCNDTK8AnsxfQf0ILZGx3P36xFYrq7QG1f/mH9d+h/ovW4k9x24jFkNTw9Yp9BJ69v5JWdsm6Hdb7O86Q6+OPx53+/l21vSK5jZYa4ZdKxTU0+vY++Bnr5mm1fdt5Xxix6jwfJ13i+uF+7DR6cy9dAKJhz8GVMPreDho1Pzrxx356s8uf426+z7d6NZ3mELcnn93n4Dl/V9XoAA6ndc53YU6+ru4WBPLzfPm9S/t6hPs9ggHbFKHVbD6zt84cxxecf9gWP7P+h5XG3DOFSSuTy3nnGbMmWK27RpU6i/9Wo50tzUGPjH97uqB7nqb1z9YyZuvpbmrJYfB9xgFvV8hdW9x2p8Xq0eApfn5ol58tNjUz1QfbaXd9888pcM7FwMvc7480M/8y1nIbManuYfBt/PCbybt0Ze1O+WW8uEVAonymEV8uzjjt5Wph1eAaSeabyx/ALfXqQZ+X7vfMMaQ/DjNt82d3d105AnhTGgPEtb8Pr9wWBpl++xX8o5F8SERY/lKxlvLL8g8Hby/U5BzsVaYWabnXNTCq1Xk2mZYnOsfmOGZ6chRjY38f7hI32tF7JbNmS3SBn7wk39AjvA0HQNeHX6dj7oLWTedELI9um+++YJ72aRvRivHzef3a6VG4/M7XeByuWVC+1rv45/+/Wi8vbl6Hzl8QzggBvMjUeObT9Tqy6UUvD7vbN/4yhSBrmBNt+zgdw7iQPNJzC0++0B6x1oPoGh+Ke24n7gGtWzMg2bcExNBncYeCBmbhlzT5rcEyH3NMikIaD/Q7IMr8kjZrk9niPutFknBgXbqwc6uUton573JPUIZs7BIOsFoN3eZXnTHdBD3gDf6xxjck7EfO3XOx5YzLw1rQXz9p7Ly9H5KusZgNvXwW43iu/1HLu4ZQfs3Itm0NYyuWY3PsPs45bBkA44rh0alwDFXayCNCmEgYHxxp55XONu6/dbHXCDubFnHksLbCvuoBlVj9hiLxJJzs/XbHDP5tdaJeiJEESmpnKmjeYEBo5q+Y61+t5CBmlVs3H1jxn7wk18IH0B6fdQpNSWJbkPNK0Bo/++yb0DyZU5AbK/R5t5t19vs85+37GoE69cna/SvZAN2LhlF5vXvoblOdFLHrogonF+ggRUr8D4k/1n8G8Nqd+3zTrZ7UZx45G5PHrojILBvZjfrtT+EOUaNqHSHR7jlojg7nfLmHdsE3s3UBoi166ubv5rw9/070YPdLvB7PzYQk4IWc7Zk8f0z+Wn7wx6Xeqff7TR7PzoQk4vMSXx8NGp3HRoBbsPdvOHIX/r+US9rSH1QNErP5x9wmX27zt5Lna73ah+37Go2lkJzSbD1sbiGnemT0SppnyBttGMXufyfue2lmZWd00bcOH2e6CZEfS3i6Q/RAmKuUhUQ4fHOCUiuPvdMvqNbRIkDeFlde806KGvBvSOtbLzYws5fdblocsJeObyGyz9gO/QrTRvbOSGsbtCP3zLfeawu3cU7Q0Da90NI9t5c+kF/e4i3rHR7DxtIadPngHknIjb3vfNXc9qeJprDqyk/ZFOPjX8BG7smcdP9p/hH3gLNJvMF8CroTaW9+ISUaopX6At9HCzlNRH0KBZDQEz6EUi6fn5RAR3v1vGQmOb5KYh5gx6hoWD7uME51+zX92bqgFlnsL71diDlBPoS8UMeD/dNM/vJAka7LJr4jcemTvgDqSvdrxtJaf/7jqgGwxOYA8n/O46GH98KsDmdob5q/mwfR29+zrY2zsMM7il6Taucz9lhB1ksKWG9x/a/TZLm37M0vl/Caf6t4LIvstoG9LMwqMnM5vi03DlDC4Pb9nF0w/dxn3cS9tx77L7QCu3PHQJ8DVmR5RqCpvCKDX1ESRoVmXAzNNxK+nDGiciuPvVSIKMbdLWkHoQeunw57nW3Zkah8VSNfvvDb4TOwyP5KnZF3PQLpx+Mk8/dBvf4t6+tNAtXMK06V8DKJjeyPd5YZ85ZN+BtDd09q8d3zzRf5rB3Nzxi/8En1nB5jf39msmOsr2D/zgAKmIQt/p/KP/l2sG90+v3bR2cMWDy9bHbmeZ3d7v7nCZu50bHxvE7FnR9dANm8KIO/VUdQHT5znHwulTEz2scU12YspVqOPS7MmpKcAaWsZ6/n3DyHbeWH4BS4c92H+ALVI9Fm8d/WjevGQxB+3sxmdY3nQH7Q3v0mDQ3pBKC81ufAaAnactpNsN7vc3+ZrmZSvmmUOu1b3TmDf0fw2cwckvheCTOz79D/9jQGop73Z8+H2nKf/+K8/9OOXffxXbVHpBfeXwPZ53h185fI//zF8eqm3C7CCqbrJsn2O1XB0eKyURNXcI2MSs0EM6n4C28KIImmqtXzbg4jHo6MG+Wuzpsy5nI6Tz3O/2tWbwapqXLegzBy+hhgqOIndcIBXh950WD7n/WJv6tKF2mMWD7+e56Vf43h3FLfMwOu/ygHMEVMOzgzC8Uj/nnDKam9a+xlX3bS1/c8MCx2rsD9ErKBE199yu+n23Xrnd1QvVnHzmTY3kKh8gKJ4+63JOWLqDhuu72DTnSTb/yfkFP8+vtlrMPKX9+E0e7je/bJD8cYBUhN93+jO802t/xrsF747idrDZ++lLvuX5VNuE2QVlDRUx+4npPPPpd3lj+QUsnH4yD27eVbnhAELOhZwEyai5F9PEzK/mVKBmX/JVvsgHakE/L+gzh6IeohUa5MvvDij3vYYmOG4EdO8NPFiY33eyPD1tbWR7wbujXFF3Yhk6cxlHHvlGvzIcaRzC0JnLitpOpZ8dFMUnr33T2tbKtp6JaSTSWpCM4B5Vb8YYRy0EKjbkbVEXpTwtC/rx2E8bP/QNvrWmNT1ByOVc03xfSePH+36nRp/9uGqB9wY9joWiUx8B982gnH0zyO/7J6Elh0/lanfX9zz/pGwXqbjP6SpWkwOHDRBykK2iBTm5y7GNuD4j5GBdcQ8qlbesXt+xiGOhqEGm4hjIzGebDx/1bslRlQ/8fAYkmzpkVeIH8iq3oAOHJSPn7pcfjkrQvH4hp85NBZnc1inVUE6/9JaPiuSH8+3HIo6FolIfhfZNmOGJk9KSwyevXXWtZ+pIMtIy5bj1KscohVEopZwh01tVlR8u4lgoKvXht28KjRmT7y4jKS05fNKNs0+NZswYKV4ygjsEbmIWWil5/XKkYgqVJ0g5Q/agrLr8sN+xEGJ2K8B/3xSq1ecL/OUaHC1uBS6oNXORSphkpGXKIWyTqqjSOUGV0vQrZHqrbLfepc7MFHJ2K8B/34Ts8FWWdGKU/PZ/3OlGKZqCe1BhT8SQeezQSgkYRfagzCgpPxw0YEdxkfT4LQYdPcjSYQ/yxvIL+k9Jl1u29ctS4+d47Ru/C6pf4A+5vyuiHJWUuKdVrDPJaC1TLmHSKwWmNotFOdNApSimBUoULaKK+S2KKZvfuuuXlaclV9zibpFWjmkVEyLR0+xVTJi8flx5Vb8AHtfzh6gvGsU8/I1qyAO/3yL7+1kDuJwB1/w6xkG4Dl9+/PZ3VL9F0O3EPTNWrTRYqCEK7nGLo+NSRDP6VPwziwkYUVwk/X6L3O+XG9gLlTnfBTVsSy6//Q3R/BbF/KZxP/wtx7SKdUY596jkyxdGmVfNfMaqy8qbx4d4nh0U8/A3ioePfr+F1/fzK1sx+eEwDxv99ne+9x76L5G1sx8g7oe/dTwGTFxUc49CoRpQFGkSr5xkrjhrOXHUrIq5q4mqL0O+3yLI98hXy4/jzinM/s7cbQQtTzGfUaNDc9QzBfcolCNfGKRmGWctJ47b8mIDRpx9GfJ9P2sE1xt8IpOoyldof3u9V2x58n0GLvUdc3+LOPd/HY8BExcF9yjkrQHt9D5JovyMjLhrOXHVrOLufBZUvu/nlUIrR3640P4udBcXpDxen9H3t2V4jpOrWo6FhFDOPQp+tdeo2gP7fUY52kfXUpvsMIr5fuXID/uVJ/c9a/TeRqHy9NuOh7if45RCbeILUjv3KATJh5faHljtgKtHtf0WUZSnEv0xwqq2/V9m9TUqZKUVqgFB6bfsSa8515Jq+y1KKE9mntaO3lHeK1Rja5Vy9/ouVpXcVajmHrVie/LVSm9SSZzscfhnNTzN8qY7+k/uHUdtOIrjvVJ3GUHKXoa7CtXcK6WY9sDlHlSs2lVJjadeZI/Dv7p3Got6vkJHbyu9cd2NRHW8V6JNfNCyV9FdRaDgbmYzzOw1M9thZos83h9nZhvMbIuZbTOzT0df1BpRzC1yFR0IFacLXdnljre/unca0w6v4EMHfxbPyI5RHe+VGE0zaNmrqKdtwaaQZtYI/AA4H+gANprZaufcK1mrXQusdM790Mw+AqwBxsdQ3mOqOZ0RtElXFR0IFaexRcoutnH4c8/Nkz4F29flb5sf9VzHccSGoOdqFY3RH6Sd+xnADufc6wBmdi9wEZAd3B3wJ+l/jwR2R1nIASoxtkocquhAqLhSL3TVfLGvUgunn+w5T2tJ4/B7nZub7vT/mzDHe74KVFyxIei5WkU9bYOkZcYA2d+qI70s21LgC2bWQarW/o1ISpdPUtIZtTZZQ5xKyaMqpdNfwGcXsczTGnSMnoyoj/e4YkPQc7WKWlIFqbmbx7LcR9WfB+52zv03M/s48H/MbKJzrrffhswWAAsAxo0bF6a8KUlJZ6jL9TGl1HiU0jmmyJpr5FPgFTUE89hUymb9Mli1IJrjP67YUMy5WiU9bYME9w4guwF3OwPTLl8GZgA45541syFAK/BO9krOuduB2yHVFDJkmZOVzqiSA6HiSrnQJeViH4VKX+jyjleTu97YgRf0KFIoccaGGjtXg6RlNgInmdkEMxsMXAKszlnnLeA8ADP7MDAE2BNlQftROiOZwgyNCxouNluUF7owTVO9zs1cmXM1jhSKYkOfgsHdOXcEuAJYC7xKqlXMy2a2zMwo2OriAAAJw0lEQVRmpVf7e+AyM3sR+DnwRRdn76gqymtJFdAJfUxUF7qwzzG8zs0pX/Y+V+O441Js6KMeqpIMai2TElUPybjnTC3XZyRQfc+hqhO9/tRYPjSUIMe117OLMA8tq2FY42pWAzEmecE9KW3gRbIVc1xnX+jCng/laLRQq63FaiTGJC8to1s9SaKwx3XYv0vqsLpR1LgrHGPqNy2jZnGSRGGP67B/Vw216rzDGIQsT1Q17hqJMckL7klqAy+SEfa4LuV8qORzjELDGIQJzFH1AaiRGJO8IX/VLE5qlV+78rDHda2eD0GGMSi2TXxUNe4a2afJC+5q5yq1qFC78rDHda2eD0EDblHDHUTUB6BG9mnyHqiK1KJaawgQd1PAfPsjVzH7JyEPiTUTk0gtqZGHdEB5RuEsZhiDoGqkxh2V5D1QFclVAx1OauUhHVCewcnydcYqpbVMZrvV9tvHRMFdkq1GOpzUVG/Nct1l1FEgjoPSMpJstTKxSy2lDDQKZ01QzV2SrZZy2bVSU62lu4w6ppq7JJtqmdGrpbuMOqaauySbapnxqJW7jDqmmrskm2qZUqdUc5fkUy1T6pBq7iIiCaTgLiKSQAruIlL7/EbUrFPKuYtIbauVXshlppq7iNS2WumFXGYK7iJS22qpF3IZKbiLSG1TL2RPCu4iUttqZNq7clNwF5HaFlcv5BpvgaPWMiJS+6LuhZyAFjiquYuI5EpACxwFdxGRXAlogaPgLiKSKwEtcBTcRURyJaAFjoK7iEiuBMwDoNYyIiJeanweANXcRUQSSMFdRCSBFNxFRBIoUHA3sxlm9pqZ7TCzRR7v32xmW9P//T8z64q+qCIiElTBB6pm1gj8ADgf6AA2mtlq59wrmXWcc1dlrf8NYHIMZRURkYCC1NzPAHY45153zh0G7gUu8ln/88DPoyiciIiEEyS4jwF2Zr3uSC8bwMw+CEwAflN60UREJKwgwd08lrk8614CPOCcO+q5IbMFZrbJzDbt2bMnaBlFRKRIQYJ7BzA263U7sDvPupfgk5Jxzt3unJvinJsyevTo4KUUEZGiBAnuG4GTzGyCmQ0mFcBX565kZicDxwPPRltEEREpVsHg7pw7AlwBrAVeBVY65142s2VmNitr1c8D9zrn8qVsRESkTAKNLeOcWwOsyVm2JOf10uiKJSIipVAPVRGRBFJwFxEpVRVOpq0hf0VESlGlk2mr5i4iUooqnUxbwV1EpBRVOpm2gruISCmqdDJtBXcRkVJU6WTaCu4iIqWo0sm01VpGRKRUVTiZtmruIiIJpOAuIpJACu4iIgmk4C4ikkAK7iIiCaTgLiKSQAruIiIJpOAuIhKnCg0HrE5MIiJxqeBwwKq5i4jEpYLDASu4i4jEpYLDASu4i0j9ijsfXsHhgBXcRaQ+ZfLh+3YC7lg+PMoAX8HhgBXcRaQ+lSMfXsHhgNVaRkTqU7ny4RUaDlg1dxGpT1U6PV5UFNxFpD5V6fR4UVFwF5H6VKXT40VFOXcRqV9VOD1eVFRzFxFJIAV3EZEEUnAXEUkgBXcRkQRScBcRSSAFdxGRBFJwFxFJIAV3EZEEChTczWyGmb1mZjvMbFGedeaa2Stm9rKZ/VO0xRQRkWIU7KFqZo3AD4DzgQ5go5mtds69krXOScBiYKpzbq+ZfSCuAouISGFBau5nADucc6875w4D9wIX5axzGfAD59xeAOfcO9EWU0REihEkuI8Bdma97kgvy/YXwF+Y2TNm9pyZzYiqgCIiUrwgA4eZxzLnsZ2TgLOBduApM5vonOvqtyGzBcACgHHjxhVdWBERCSZIzb0DGJv1uh3Y7bHOI865HufcG8BrpIJ9P865251zU5xzU0aPHh22zCIiUkCQ4L4ROMnMJpjZYOASYHXOOg8D5wCYWSupNM3rURZURESCKxjcnXNHgCuAtcCrwErn3MtmtszMZqVXWwt0mtkrwAZgoXOuM65Ci4iIP3MuN31eHlOmTHGbNm2qyGeLiNQqM9vsnJtSaD31UBURSSAFdxERgG0r4eaJsLQl9f9tKytdopJoDlURkW0r4dEroac79XrfztRrqNk5VlVzFxFZv+xYYM/o6U4tr1EK7iIi+zqKW14DFNxFREa2F7e8Bii4i4ictwSamvsva2pOLa9RCu4iIqfOhc+sgJFjAUv9/zMravZhKqi1jIhIyqlzazqY51LNXUQkgRTcRUQSSMFdRCSBFNxFRBJIwV1EJIEU3EVEEkjBXUQkgSo2WYeZ7QH+pSIfHq9W4N1KF6JKad/kp32Tn/ZNfx90zhWchLpiwT2pzGxTkFlS6pH2TX7aN/lp34SjtIyISAIpuIuIJJCCe/Rur3QBqpj2TX7aN/lp34SgnLuISAKp5i4ikkAK7iGZ2Vgz22Bmr5rZy2b2zfTyPzWzX5nZ9vT/j690WSvFzBrNbIuZ/SL9eoKZ/XN639xnZoMrXcZKMLMWM3vAzH6fPn4+ruMmxcyuSp9PL5nZz81siI6bcBTcwzsC/L1z7sPAmcDXzewjwCJgvXPuJGB9+nW9+ibwatbr7wE3p/fNXuDLFSlV5d0KPO6cOwX4K1L7qO6PGzMbA1wJTHHOTQQagUvQcROKgntIzrm3nXMvpP/9HqkTdAxwEfCT9Go/AWZXpoSVZWbtwAXAHenXBpwLPJBepS73jZn9CfCfgDsBnHOHnXNd6LjJGAQ0m9kgYCjwNjpuQlFwj4CZjQcmA/8M/Jlz7m1IXQCAD1SuZBV1C3AN0Jt+PQrocs4dSb/uIHUxrDd/DuwB/nc6ZXWHmQ1Dxw3OuV3A94G3SAX1fcBmdNyEouBeIjMbDjwIfMs59++VLk81MLMLgXecc5uzF3usWo9NtQYBpwE/dM5NBt6nDlMwXtLPGS4CJgBtwDBgpseq9XjcFE3BvQRm1kQqsP/MObcqvfiPZnZi+v0TgXcqVb4KmgrMMrM3gXtJ3VbfArSkb7cB2oHdlSleRXUAHc65f06/foBUsNdxA58E3nDO7XHO9QCrgE+g4yYUBfeQ0jnkO4FXnXP/Peut1cCl6X9fCjxS7rJVmnNusXOu3Tk3ntQDsd845/4W2AB8Lr1ave6bfwV2mtnJ6UXnAa+g4wZS6ZgzzWxo+vzK7Ju6P27CUCemkMxsGvAU8DuO5ZX/gVTefSUwjtTB+jfOuX+rSCGrgJmdDVztnLvQzP6cVE3+T4EtwBecc4cqWb5KMLNJpB40DwZeB75EqqJV98eNmV0PzCPVGm0L8BVSOfa6P26KpeAuIpJASsuIiCSQgruISAIpuIuIJJCCu4hIAim4i4gkkIK7iEgCKbiLiCSQgruISAL9f9v66H1u0yJaAAAAAElFTkSuQmCC\n",
      "text/plain": [
       "<Figure size 432x288 with 1 Axes>"
      ]
     },
     "metadata": {
      "needs_background": "light"
     },
     "output_type": "display_data"
    }
   ],
   "source": [
    "# code for test and train F1-score\n",
    "train_f1 = [2*((np.multiply(training_Precision,training_Recall))/np.add(training_Precision, training_Recall))]\n",
    "test_f1 = [2*((np.multiply(testing_Precision,testing_Recall))/np.add(testing_Precision, testing_Recall))]\n",
    "plt.scatter(list(range(10,95)), train_f1, label = 'training_F1')\n",
    "plt.scatter(list(range(10,95)), test_f1, label = 'testing_F1')\n",
    "plt.legend()"
   ]
  },
  {
   "cell_type": "markdown",
   "metadata": {},
   "source": [
    "## Summary\n",
    "\n",
    "Nice! In this lab, you gained some extra practice with evaluation metrics for classification algorithms. You also got some further python practice by manually coding these functions yourself, giving you a deeper understanding of how they work. Going forward, continue to think about scenarios in which you might prefer to optimize one of these metrics over another."
   ]
  }
 ],
 "metadata": {
  "kernelspec": {
   "display_name": "Python 3",
   "language": "python",
   "name": "python3"
  },
  "language_info": {
   "codemirror_mode": {
    "name": "ipython",
    "version": 3
   },
   "file_extension": ".py",
   "mimetype": "text/x-python",
   "name": "python",
   "nbconvert_exporter": "python",
   "pygments_lexer": "ipython3",
<<<<<<< HEAD
   "version": "3.7.1"
=======
   "version": "3.6.6"
>>>>>>> b86d6b7e148b53cb910e02accfb0e18e8832a286
  }
 },
 "nbformat": 4,
 "nbformat_minor": 2
}
